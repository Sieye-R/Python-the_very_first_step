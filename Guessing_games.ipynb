{
 "cells": [
  {
   "cell_type": "markdown",
   "id": "354c44a3",
   "metadata": {},
   "source": [
    "# Guessing game\n",
    "\n",
    "Guess what this is! You have five chances to guess and you can use three chances to get a hint.\n",
    "<br>\n",
    "I watched a tutorial on building a guessing game, https://www.youtube.com/watch?v=B9ORjeQlPOA and \n",
    "here I upgraded the game! It provides three hints!"
   ]
  },
  {
   "cell_type": "code",
   "execution_count": 1,
   "id": "abca8419",
   "metadata": {
    "scrolled": false
   },
   "outputs": [
    {
     "name": "stdout",
     "output_type": "stream",
     "text": [
      "If you need a hint, enter 'hint', otherwise enter your guess: hint\n",
      "Its name consists of six letters.\n",
      "If you need a hint, enter 'hint', otherwise enter your guess: apple\n",
      "If you need a hint, enter 'hint', otherwise enter your guess: banana\n",
      "You win!\n"
     ]
    }
   ],
   "source": [
    "secrete_word = \"banana\"\n",
    "guess = \"\"\n",
    "guess_count = 0\n",
    "guess_limit = 5\n",
    "hint_count = 0\n",
    "hint_limit = 3\n",
    "out_of_guesses = False\n",
    "\n",
    "hint = [\"Its name consists of six letters.\", \"This is fruit.\", \"This is yellow.\"]\n",
    "\n",
    "while guess != secrete_word and not(out_of_guesses):\n",
    "    if guess_count < guess_limit:\n",
    "        if hint_count < hint_limit:\n",
    "            guess = input(\"If you need a hint, enter 'hint', otherwise enter your guess: \")\n",
    "            if guess == \"hint\": \n",
    "                print(hint[hint_count])\n",
    "                hint_count += 1\n",
    "            elif guess != 'hint':\n",
    "                 guess_count +=1\n",
    "        elif hint_count >= hint_limit:\n",
    "            guess = input(\"Enter guess: \")\n",
    "            guess_count +=1\n",
    "    else:\n",
    "        out_of_guesses = True\n",
    "  \n",
    "      \n",
    "if out_of_guesses:\n",
    "    print(\"You lose!\")\n",
    "else:\n",
    "    print(\"You win!\")"
   ]
  },
  {
   "cell_type": "markdown",
   "id": "d3e1f08a",
   "metadata": {},
   "source": [
    "The above is my following is what I learned on the tutorial."
   ]
  },
  {
   "cell_type": "code",
   "execution_count": null,
   "id": "dd11fe09",
   "metadata": {},
   "outputs": [],
   "source": [
    "secrete_word = \"apple\"\n",
    "guess = \"\"\n",
    "guess_count = 0\n",
    "guess_limit = 3\n",
    "out_of_guesses = False\n",
    "\n",
    "while guess != secrete_word and not(out_of_guesses):\n",
    "    if guess_count < guess_limit:\n",
    "        guess = input(\"Enter guess: \")\n",
    "        guess_count +=1\n",
    "    else:\n",
    "        out_of_guesses=True\n",
    "if out_of_guesses:\n",
    "    print(\"Out of guesses. You lose!\")\n",
    "else:\n",
    "    print(\"You win!\")"
   ]
  }
 ],
 "metadata": {
  "kernelspec": {
   "display_name": "Python 3",
   "language": "python",
   "name": "python3"
  },
  "language_info": {
   "codemirror_mode": {
    "name": "ipython",
    "version": 3
   },
   "file_extension": ".py",
   "mimetype": "text/x-python",
   "name": "python",
   "nbconvert_exporter": "python",
   "pygments_lexer": "ipython3",
   "version": "3.8.5"
  }
 },
 "nbformat": 4,
 "nbformat_minor": 5
}
