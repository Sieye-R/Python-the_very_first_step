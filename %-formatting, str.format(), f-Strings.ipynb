{
 "cells": [
  {
   "cell_type": "markdown",
   "id": "2693e634",
   "metadata": {},
   "source": [
    "# %-formatting, str.format(), f-Strings"
   ]
  },
  {
   "cell_type": "markdown",
   "id": "2899bde2",
   "metadata": {},
   "source": [
    "We discuss how to use %-formatting, str.format() and f-strings. \n",
    "All of them will be replaced with their values.\n",
    "\n",
    "Especially, when you use %-formatting, you indicate data type of your values.\n",
    "\n",
    "`%s` : string<br>\n",
    "`%d` : integer<br>\n",
    "`%f` : float<br>\n",
    "`%.2f` : float with 2 digits after the decimal point\n",
    "\n",
    "Here are a few examples."
   ]
  },
  {
   "cell_type": "code",
   "execution_count": 1,
   "id": "c04acddb",
   "metadata": {},
   "outputs": [
    {
     "name": "stdout",
     "output_type": "stream",
     "text": [
      "I drank caipirinha last night.\n",
      "caipirinha was tasty so I drank a lot.\n",
      "caipirinha is dangerous. I did not realise that I was drinking too much.\n"
     ]
    }
   ],
   "source": [
    "variable = \"caipirinha\"\n",
    "\n",
    "statement1 = \"I drank %s last night.\" %variable\n",
    "statement2 = \"{} was tasty so I drank a lot.\".format(variable)\n",
    "statement3 = f\"{variable} is dangerous. I did not realise that I was drinking too much.\"\n",
    "\n",
    "print(statement1)\n",
    "print(statement2)\n",
    "print(statement3)"
   ]
  },
  {
   "cell_type": "code",
   "execution_count": 2,
   "id": "ca0e9bcc",
   "metadata": {},
   "outputs": [
    {
     "name": "stdout",
     "output_type": "stream",
     "text": [
      "In mathematics, e=2.718281828459045 and pi=3.141592653589793 are importatnt constants.\n",
      "e=2.718281828459045 is Euler's number and pi=3.141592653589793 is the ratio of a circle's circumference to its diameter.\n",
      "e=both2.718281828459045 and pi=3.141592653589793 are irrational.\n"
     ]
    }
   ],
   "source": [
    "from math import e, pi\n",
    "\n",
    "fact1 = \"In mathematics, e=%.15f and pi=%.15f are importatnt constants.\"%(e, pi)\n",
    "fact2 = \"e={} is Euler's number and pi={} is the ratio of a circle's circumference to its diameter.\".format(e, pi) \n",
    "fact3 = f\"e=both{e} and pi={pi} are irrational.\"\n",
    "print(fact1)\n",
    "print(fact2)\n",
    "print(fact3)"
   ]
  },
  {
   "cell_type": "markdown",
   "id": "14dba304",
   "metadata": {},
   "source": [
    "##### I heard f-string is better than %-formatting and str.format() because it is simpler, faster and easier to understand. Indeed, I think f-string would be better if I have several values. But how fast is it? I will check out their speeds. First I will use `time` with decorator and then I will use `timeit`. "
   ]
  },
  {
   "cell_type": "code",
   "execution_count": 3,
   "id": "4bf2c3a7",
   "metadata": {},
   "outputs": [],
   "source": [
    "import time\n",
    "\n",
    "def stopwatch(f):\n",
    "    def func(*args, **kwargs):\n",
    "        start = time.time()\n",
    "        result = f(*args, **kwargs)\n",
    "        print(f\"this function took: {time.time() - start}\")\n",
    "        return result\n",
    "    return func\n",
    "\n",
    "@stopwatch\n",
    "def print_out(f):\n",
    "    return f*10"
   ]
  },
  {
   "cell_type": "code",
   "execution_count": 4,
   "id": "92caaa8c",
   "metadata": {
    "scrolled": false
   },
   "outputs": [],
   "source": [
    "value1 = \"mango\"\n",
    "value2 = \"mandarin\"\n",
    "claim1 = \"%s and %s smell good.\" %(value1, value2)\n",
    "claim2 = \"{} and {} smell good.\".format(value1, value2)\n",
    "claim3 = f\"{value1} and {value2} smell good.\""
   ]
  },
  {
   "cell_type": "code",
   "execution_count": 5,
   "id": "f40a8ef0",
   "metadata": {},
   "outputs": [
    {
     "name": "stdout",
     "output_type": "stream",
     "text": [
      "this function took: 1.1920928955078125e-06\n"
     ]
    },
    {
     "data": {
      "text/plain": [
       "'mango and mandarin smell good.mango and mandarin smell good.mango and mandarin smell good.mango and mandarin smell good.mango and mandarin smell good.mango and mandarin smell good.mango and mandarin smell good.mango and mandarin smell good.mango and mandarin smell good.mango and mandarin smell good.'"
      ]
     },
     "execution_count": 5,
     "metadata": {},
     "output_type": "execute_result"
    }
   ],
   "source": [
    "print_out(claim1)"
   ]
  },
  {
   "cell_type": "code",
   "execution_count": 6,
   "id": "19974dbd",
   "metadata": {
    "scrolled": true
   },
   "outputs": [
    {
     "name": "stdout",
     "output_type": "stream",
     "text": [
      "this function took: 1.6689300537109375e-06\n"
     ]
    },
    {
     "data": {
      "text/plain": [
       "'mango and mandarin smell good.mango and mandarin smell good.mango and mandarin smell good.mango and mandarin smell good.mango and mandarin smell good.mango and mandarin smell good.mango and mandarin smell good.mango and mandarin smell good.mango and mandarin smell good.mango and mandarin smell good.'"
      ]
     },
     "execution_count": 6,
     "metadata": {},
     "output_type": "execute_result"
    }
   ],
   "source": [
    "print_out(claim2)"
   ]
  },
  {
   "cell_type": "code",
   "execution_count": 7,
   "id": "2fe98f41",
   "metadata": {
    "scrolled": true
   },
   "outputs": [
    {
     "name": "stdout",
     "output_type": "stream",
     "text": [
      "this function took: 1.430511474609375e-06\n"
     ]
    },
    {
     "data": {
      "text/plain": [
       "'mango and mandarin smell good.mango and mandarin smell good.mango and mandarin smell good.mango and mandarin smell good.mango and mandarin smell good.mango and mandarin smell good.mango and mandarin smell good.mango and mandarin smell good.mango and mandarin smell good.mango and mandarin smell good.'"
      ]
     },
     "execution_count": 7,
     "metadata": {},
     "output_type": "execute_result"
    }
   ],
   "source": [
    "print_out(claim3)"
   ]
  },
  {
   "cell_type": "markdown",
   "id": "4e276657",
   "metadata": {},
   "source": [
    "##### f-strings is not faster than %-formatting here??? Let's use `timeit.`"
   ]
  },
  {
   "cell_type": "code",
   "execution_count": 8,
   "id": "738386c7",
   "metadata": {},
   "outputs": [
    {
     "name": "stdout",
     "output_type": "stream",
     "text": [
      "%-formatting took 0.001670314999500988s.\n"
     ]
    }
   ],
   "source": [
    "import timeit\n",
    "\n",
    "a=timeit.timeit(\"\"\"value1 = \"mango\"\n",
    "value2 = \"mandarin\"\n",
    "\"%s and %s smell good.\" %(value1, value2)\"\"\", number = 10000)\n",
    "\n",
    "print(f\"%-formatting took {a}s.\")"
   ]
  },
  {
   "cell_type": "code",
   "execution_count": 9,
   "id": "b33cc719",
   "metadata": {},
   "outputs": [
    {
     "name": "stdout",
     "output_type": "stream",
     "text": [
      "str.format() took 0.0021767620019090828s.\n"
     ]
    }
   ],
   "source": [
    "b=timeit.timeit(\"\"\"value1 = \"mango\"\n",
    "value2 = \"mandarin\"\n",
    "\"{} and {} smell good.\".format(value1, value2)\"\"\", number = 10000)\n",
    "\n",
    "print(f\"str.format() took {b}s.\")"
   ]
  },
  {
   "cell_type": "code",
   "execution_count": 10,
   "id": "e781deef",
   "metadata": {
    "scrolled": true
   },
   "outputs": [
    {
     "name": "stdout",
     "output_type": "stream",
     "text": [
      "f-strings took 0.0008535470005881507s.\n"
     ]
    }
   ],
   "source": [
    "c=timeit.timeit(\"\"\"value1 = \"mango\"\n",
    "value2 = \"mandarin\"\n",
    "f\"{value1} and {value2} smell good.\" \"\"\", number = 10000)\n",
    "\n",
    "print(f\"f-strings took {c}s.\")"
   ]
  },
  {
   "cell_type": "markdown",
   "id": "b3e5f758",
   "metadata": {},
   "source": [
    "##### Two measures show different results! Right?"
   ]
  },
  {
   "cell_type": "markdown",
   "id": "5375ea98",
   "metadata": {},
   "source": [
    "To study %-formatting, str.fotmat(), f-strings, I watched the tutorial 'Strings in Python - Advanced Python 05 - Programming Tutorial'\n",
    "https://www.youtube.com/watch?v=e6ivlABOYRI&list=PLqnslRFeH2UqLwzS0AwKDKLrpYBKzLBy2&index=5\n",
    "and I learned decorator from the tutorial https://calmcode.io/decorators/introduction.html."
   ]
  }
 ],
 "metadata": {
  "kernelspec": {
   "display_name": "Python 3",
   "language": "python",
   "name": "python3"
  },
  "language_info": {
   "codemirror_mode": {
    "name": "ipython",
    "version": 3
   },
   "file_extension": ".py",
   "mimetype": "text/x-python",
   "name": "python",
   "nbconvert_exporter": "python",
   "pygments_lexer": "ipython3",
   "version": "3.8.10"
  }
 },
 "nbformat": 4,
 "nbformat_minor": 5
}
