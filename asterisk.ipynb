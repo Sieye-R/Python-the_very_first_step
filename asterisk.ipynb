{
 "cells": [
  {
   "cell_type": "markdown",
   "id": "05773a4a",
   "metadata": {},
   "source": [
    "# 1. Let's define a flexible function using the asterisk."
   ]
  },
  {
   "cell_type": "markdown",
   "id": "39b0cdca",
   "metadata": {},
   "source": [
    "#### We define a function 'multiplication' with paramters a, b, and c. After that we call the function with the arguments 1, 3 and 5."
   ]
  },
  {
   "cell_type": "code",
   "execution_count": null,
   "id": "e66cf2f0",
   "metadata": {},
   "outputs": [],
   "source": [
    "def multiplication(a, b, c):\n",
    "    return a*b*c\n",
    "multiplication(1, 3, 5)"
   ]
  },
  {
   "cell_type": "markdown",
   "id": "149314c6",
   "metadata": {},
   "source": [
    "#### The above function allows only three arguments. The following two functions are more flexible. "
   ]
  },
  {
   "cell_type": "code",
   "execution_count": null,
   "id": "709c2629",
   "metadata": {},
   "outputs": [],
   "source": [
    "def multiplication(numbers):\n",
    "    result = 1\n",
    "    for i in numbers:\n",
    "        result *= i\n",
    "    return result    \n",
    "numbers = [1, 3, 5, 7]        \n",
    "multiplication(numbers)"
   ]
  },
  {
   "cell_type": "code",
   "execution_count": null,
   "id": "e77088a9",
   "metadata": {
    "scrolled": true
   },
   "outputs": [],
   "source": [
    "def best_multiplication(*numbers):\n",
    "    result = 1\n",
    "    for i in numbers:\n",
    "        result *= i\n",
    "    return result    \n",
    "best_multiplication(1, 3, 5, 7, 9)"
   ]
  },
  {
   "cell_type": "markdown",
   "id": "54ffa094",
   "metadata": {},
   "source": [
    "#### The third one looks good to me! In the second cell, numbers can be a list, tuple or set."
   ]
  },
  {
   "cell_type": "markdown",
   "id": "c75b5ccb",
   "metadata": {},
   "source": [
    "# 2. args and kwargs"
   ]
  },
  {
   "cell_type": "markdown",
   "id": "b22903a6",
   "metadata": {},
   "source": [
    "We can pass any number of positional arguments in `*args` and any number of keyword arguments in `**kwargs`. \n",
    "Python regards `*args` as a tuple and `**kwargs` as a dictionary."
   ]
  },
  {
   "cell_type": "code",
   "execution_count": null,
   "id": "2ccae8c4",
   "metadata": {
    "scrolled": true
   },
   "outputs": [],
   "source": [
    "def function(*args):\n",
    "    print(args)\n",
    "function('g',)    "
   ]
  },
  {
   "cell_type": "markdown",
   "id": "d17c04f2",
   "metadata": {},
   "source": [
    "Any parameter after * is regarded as `*args` and any parameter after ** is regarded as `*kargs`."
   ]
  },
  {
   "cell_type": "code",
   "execution_count": null,
   "id": "51e254cc",
   "metadata": {
    "scrolled": true
   },
   "outputs": [],
   "source": [
    "def function(a, b, *arms):\n",
    "    print(a, b)\n",
    "    print(arms)\n",
    "function(1,2,)  "
   ]
  },
  {
   "cell_type": "code",
   "execution_count": null,
   "id": "bab1a386",
   "metadata": {
    "scrolled": true
   },
   "outputs": [],
   "source": [
    "def function(a, b, *args, keyword = True, **kwargs):\n",
    "    print(a, b)\n",
    "    print(args)\n",
    "    print(keyword)\n",
    "    print(kwargs)\n",
    "function(1, 2, 3, 4, 5, food = 'chocolate')  "
   ]
  },
  {
   "cell_type": "markdown",
   "id": "8b1d74b1",
   "metadata": {},
   "source": [
    "When you do not use any positional argument excepts a and b, you can insert * before keyword arguments. Here, keyword is a default (keyword) argument."
   ]
  },
  {
   "cell_type": "code",
   "execution_count": null,
   "id": "0351c84f",
   "metadata": {},
   "outputs": [],
   "source": [
    "def function(a, b, *, keyword = True,  **kwargs):\n",
    "    print(a, b)\n",
    "    print(keyword)\n",
    "    print(kwargs)\n",
    "function(1, 2, food = 'chocolate')  "
   ]
  },
  {
   "cell_type": "markdown",
   "id": "f26f18d6",
   "metadata": {},
   "source": [
    "With the asteisk, the programming can be more flexible.\n",
    "In the following example, using `**kwargs` makes the code concise and simple. When we need any keyword arguments for json.dumps, we can simply call dict_to_config without defining any other parameters. "
   ]
  },
  {
   "cell_type": "code",
   "execution_count": null,
   "id": "ca6c5428",
   "metadata": {},
   "outputs": [],
   "source": [
    "import json\n",
    "import pathlib\n",
    "\n",
    "def dict_to_config(dictionary, file=\"config.json\", verbose=False, **kwargs):\n",
    "    '''\n",
    "    dictionary\n",
    "    file\n",
    "    verebose\n",
    "    kwargs - this is passed to json.dumps\n",
    "    '''\n",
    "    json_txt = json.dumps(dictionary, **kwargs)\n",
    "    if verbose:\n",
    "        print(json_txt)\n",
    "    pathlib.Path(file).write_text(json_txt)"
   ]
  },
  {
   "cell_type": "code",
   "execution_count": null,
   "id": "30798d0a",
   "metadata": {},
   "outputs": [],
   "source": [
    "dict_to_config({'a':1, 'b':2}, verbose=True, indent=2)"
   ]
  },
  {
   "cell_type": "code",
   "execution_count": null,
   "id": "be1bc77c",
   "metadata": {},
   "outputs": [],
   "source": [
    "!ls config.json"
   ]
  },
  {
   "cell_type": "code",
   "execution_count": null,
   "id": "f142583d",
   "metadata": {
    "scrolled": true
   },
   "outputs": [],
   "source": [
    "!cat config.json"
   ]
  },
  {
   "cell_type": "markdown",
   "id": "4391e71c",
   "metadata": {},
   "source": [
    "# 3. Unpacking \n",
    "\n",
    "To unpack tuples, lists or sets, we use `*`. To unpack dictionaries, we use `**`."
   ]
  },
  {
   "cell_type": "code",
   "execution_count": null,
   "id": "78f7bd74",
   "metadata": {
    "scrolled": true
   },
   "outputs": [],
   "source": [
    "def function(a, b, *args, keyword=True, **kwargs):\n",
    "    print(a, b)\n",
    "    print(args)\n",
    "    print(keyword)\n",
    "    print(kwargs)\n",
    "\n",
    "d = {'param_a': 43, 'param_b': 44}\n",
    "function(1, 2, *[5, 3, 4], param=42, **d)"
   ]
  },
  {
   "cell_type": "code",
   "execution_count": null,
   "id": "ee30b2ff",
   "metadata": {},
   "outputs": [],
   "source": [
    "my_tuple = (1, 2, 3)\n",
    "my_list = [4, 5]\n",
    "my_set = {6, 7, 8, 9}\n",
    "new_list = [*my_tuple, *my_list, *my_set]\n",
    "print(new_list)"
   ]
  },
  {
   "cell_type": "code",
   "execution_count": null,
   "id": "ddb7b0ca",
   "metadata": {},
   "outputs": [],
   "source": [
    "dict_a = {'a':1, 'b':2}\n",
    "dict_b = {'c':3, 'd':4, 'e':5}\n",
    "new_dict = {**dict_a, **dict_b}\n",
    "print(new_dict)"
   ]
  },
  {
   "cell_type": "markdown",
   "id": "a71a65f4",
   "metadata": {},
   "source": [
    "# 4. Other useful functions of the asterisk"
   ]
  },
  {
   "cell_type": "code",
   "execution_count": null,
   "id": "6ad9659b",
   "metadata": {},
   "outputs": [],
   "source": [
    "letters = 'ABC'\n",
    "print('ABC'*10)"
   ]
  },
  {
   "cell_type": "code",
   "execution_count": null,
   "id": "73fe43ea",
   "metadata": {},
   "outputs": [],
   "source": [
    "my_list = [1, 2, 3]\n",
    "print(my_list*0)"
   ]
  },
  {
   "cell_type": "code",
   "execution_count": null,
   "id": "607be8dd",
   "metadata": {
    "scrolled": true
   },
   "outputs": [],
   "source": [
    "numbers = [1, 2, 3, 4, 5, 6, 7]\n",
    "beginning, *middle, second_last, last = numbers\n",
    "print(beginning)\n",
    "print(middle)\n",
    "print(second_last)\n",
    "print(last)"
   ]
  },
  {
   "cell_type": "markdown",
   "id": "c785b0a7",
   "metadata": {},
   "source": [
    "# References\n",
    "\n",
    "args kwargs \n",
    "https://calmcode.io/args-kwargs/introduction.html\n",
    "<br>\n",
    "Function arguments in detail \n",
    "https://www.youtube.com/watch?v=iSEyb7ehLK0&list=PLqnslRFeH2UqLwzS0AwKDKLrpYBKzLBy2&index=18 \n",
    "<br>\n",
    "The asterisk (*) operator in Python \n",
    "https://www.youtube.com/watch?v=M7daahMOMMc&list=PLqnslRFeH2UqLwzS0AwKDKLrpYBKzLBy2&index=19\n"
   ]
  }
 ],
 "metadata": {
  "kernelspec": {
   "display_name": "Python 3",
   "language": "python",
   "name": "python3"
  },
  "language_info": {
   "codemirror_mode": {
    "name": "ipython",
    "version": 3
   },
   "file_extension": ".py",
   "mimetype": "text/x-python",
   "name": "python",
   "nbconvert_exporter": "python",
   "pygments_lexer": "ipython3",
   "version": "3.8.5"
  }
 },
 "nbformat": 4,
 "nbformat_minor": 5
}
