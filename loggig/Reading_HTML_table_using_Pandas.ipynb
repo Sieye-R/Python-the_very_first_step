{
 "cells": [
  {
   "cell_type": "markdown",
   "id": "5947aa0d",
   "metadata": {},
   "source": [
    "# Reading HTML tables using Pandas"
   ]
  },
  {
   "cell_type": "markdown",
   "id": "a2a6941e",
   "metadata": {},
   "source": [
    "In our logging practice, we will use the data \"Top Grossing Movies of 2021\".\n",
    "Here, we obtain the data \"Top Grossing Movies of 2021\" from the website and check out what this data looks like.\n",
    "<br>\n",
    "I watched the tutorial \"Data Analysis with Python - Full Course for Beginners (Numpy, Pandas, Matplotlib, Seaborn).\"\n",
    "\n",
    "https://www.youtube.com/watch?v=r-uOLxNrNk8&t=13929s"
   ]
  },
  {
   "cell_type": "code",
   "execution_count": null,
   "id": "332a229b",
   "metadata": {},
   "outputs": [],
   "source": [
    "import pandas as pd\n",
    "import numpy as np\n",
    "import requests\n",
    "\n",
    "html_url = \"https://www.the-numbers.com/market/2021/top-grossing-movies\"\n",
    "r = requests.get(html_url)\n",
    "top_movie = pd.read_html(r.text, header=0)"
   ]
  },
  {
   "cell_type": "code",
   "execution_count": null,
   "id": "63c4ed7a",
   "metadata": {},
   "outputs": [],
   "source": [
    "print(pd.__version__)"
   ]
  },
  {
   "cell_type": "code",
   "execution_count": null,
   "id": "b65c4d19",
   "metadata": {},
   "outputs": [],
   "source": [
    "len(top_movie)"
   ]
  },
  {
   "cell_type": "code",
   "execution_count": null,
   "id": "63573b2b",
   "metadata": {},
   "outputs": [],
   "source": [
    "movie = top_movie[0]"
   ]
  },
  {
   "cell_type": "code",
   "execution_count": null,
   "id": "48bbeeec",
   "metadata": {},
   "outputs": [],
   "source": [
    "movie.head()"
   ]
  },
  {
   "cell_type": "code",
   "execution_count": null,
   "id": "cb58db2f",
   "metadata": {},
   "outputs": [],
   "source": [
    "movie.tail()"
   ]
  },
  {
   "cell_type": "code",
   "execution_count": null,
   "id": "edbd4fc9",
   "metadata": {},
   "outputs": [],
   "source": [
    "movie.set_index('Rank', inplace=True)"
   ]
  },
  {
   "cell_type": "code",
   "execution_count": null,
   "id": "b5ba1413",
   "metadata": {
    "scrolled": true
   },
   "outputs": [],
   "source": [
    "movie = movie.drop(['Total Gross of All Movies', 'Total Tickets Sold'], axis = 0)"
   ]
  },
  {
   "cell_type": "code",
   "execution_count": null,
   "id": "7c50babf",
   "metadata": {},
   "outputs": [],
   "source": [
    "for col in movie.columns:\n",
    "    print(col)"
   ]
  },
  {
   "cell_type": "code",
   "execution_count": null,
   "id": "c45ba8de",
   "metadata": {},
   "outputs": [],
   "source": [
    "list(movie.columns.values)"
   ]
  },
  {
   "cell_type": "code",
   "execution_count": null,
   "id": "0423e387",
   "metadata": {},
   "outputs": [],
   "source": [
    "horror = movie[(movie['Genre'] == \"Horror\")]\n",
    "pd.DataFrame(horror['Movie'])"
   ]
  }
 ],
 "metadata": {
  "kernelspec": {
   "display_name": "Python 3",
   "language": "python",
   "name": "python3"
  },
  "language_info": {
   "codemirror_mode": {
    "name": "ipython",
    "version": 3
   },
   "file_extension": ".py",
   "mimetype": "text/x-python",
   "name": "python",
   "nbconvert_exporter": "python",
   "pygments_lexer": "ipython3",
   "version": "3.8.5"
  }
 },
 "nbformat": 4,
 "nbformat_minor": 5
}
