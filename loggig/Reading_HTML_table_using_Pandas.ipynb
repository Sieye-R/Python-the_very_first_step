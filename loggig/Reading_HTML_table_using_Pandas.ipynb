{
 "cells": [
  {
   "cell_type": "markdown",
   "id": "f91c2697",
   "metadata": {},
   "source": [
    "# Reading HTML tables using Pandas"
   ]
  },
  {
   "cell_type": "markdown",
   "id": "a2a6941e",
   "metadata": {},
   "source": [
    "In our logging practice, we will use the data \"Top Grossing Movies of 2021\".\n",
    "Here, we obtain the data \"Top Grossing Movies of 2021\" from the website and check out what this data looks like.\n",
    "<br>\n",
    "I watched the tutorial \"Data Analysis with Python - Full Course for Beginners (Numpy, Pandas, Matplotlib, Seaborn).\"\n",
    "\n",
    "https://www.youtube.com/watch?v=r-uOLxNrNk8&t=13929s"
   ]
  },
  {
   "cell_type": "code",
   "execution_count": 1,
   "id": "332a229b",
   "metadata": {},
   "outputs": [],
   "source": [
    "import pandas as pd\n",
    "import numpy as np\n",
    "import requests\n",
    "\n",
    "html_url = \"https://www.the-numbers.com/market/2021/top-grossing-movies\"\n",
    "r = requests.get(html_url)\n",
    "top_movie = pd.read_html(r.text, header=0)"
   ]
  },
  {
   "cell_type": "markdown",
   "id": "8cabbb96",
   "metadata": {},
   "source": [
    "We can see the version of pandas with the following two methods.\n",
    "<ul>\n",
    "<li>\n",
    "<code> print(pd.__version__) </code> in text editor\n",
    "</li>\n",
    "<li>\n",
    "<code> pip show pandas </code> in terminal\n",
    "</li>\n",
    "</ul>"
   ]
  },
  {
   "cell_type": "code",
   "execution_count": 2,
   "id": "63c4ed7a",
   "metadata": {},
   "outputs": [
    {
     "name": "stdout",
     "output_type": "stream",
     "text": [
      "1.2.4\n"
     ]
    }
   ],
   "source": [
    "print(pd.__version__)"
   ]
  },
  {
   "cell_type": "markdown",
   "id": "c695470d",
   "metadata": {},
   "source": [
    "###### How many tables are there on this website?"
   ]
  },
  {
   "cell_type": "code",
   "execution_count": 3,
   "id": "b65c4d19",
   "metadata": {},
   "outputs": [
    {
     "data": {
      "text/plain": [
       "1"
      ]
     },
     "execution_count": 3,
     "metadata": {},
     "output_type": "execute_result"
    }
   ],
   "source": [
    "len(top_movie)"
   ]
  },
  {
   "cell_type": "markdown",
   "id": "404b8f91",
   "metadata": {},
   "source": [
    "###### Let `movie` be the unique table on this website."
   ]
  },
  {
   "cell_type": "code",
   "execution_count": 4,
   "id": "63573b2b",
   "metadata": {},
   "outputs": [],
   "source": [
    "movie = top_movie[0]"
   ]
  },
  {
   "cell_type": "code",
   "execution_count": 5,
   "id": "48bbeeec",
   "metadata": {},
   "outputs": [
    {
     "data": {
      "text/html": [
       "<div>\n",
       "<style scoped>\n",
       "    .dataframe tbody tr th:only-of-type {\n",
       "        vertical-align: middle;\n",
       "    }\n",
       "\n",
       "    .dataframe tbody tr th {\n",
       "        vertical-align: top;\n",
       "    }\n",
       "\n",
       "    .dataframe thead th {\n",
       "        text-align: right;\n",
       "    }\n",
       "</style>\n",
       "<table border=\"1\" class=\"dataframe\">\n",
       "  <thead>\n",
       "    <tr style=\"text-align: right;\">\n",
       "      <th></th>\n",
       "      <th>Rank</th>\n",
       "      <th>Movie</th>\n",
       "      <th>ReleaseDate</th>\n",
       "      <th>Distributor</th>\n",
       "      <th>Genre</th>\n",
       "      <th>2021 Gross</th>\n",
       "      <th>Tickets Sold</th>\n",
       "    </tr>\n",
       "  </thead>\n",
       "  <tbody>\n",
       "    <tr>\n",
       "      <th>0</th>\n",
       "      <td>1</td>\n",
       "      <td>A Quiet Place: Part II</td>\n",
       "      <td>May 28, 2021</td>\n",
       "      <td>Paramount Pictures</td>\n",
       "      <td>Horror</td>\n",
       "      <td>$136,381,860</td>\n",
       "      <td>14888849.0</td>\n",
       "    </tr>\n",
       "    <tr>\n",
       "      <th>1</th>\n",
       "      <td>2</td>\n",
       "      <td>Godzilla vs. Kong</td>\n",
       "      <td>Mar 31, 2021</td>\n",
       "      <td>Warner Bros.</td>\n",
       "      <td>Action</td>\n",
       "      <td>$100,392,257</td>\n",
       "      <td>10959853.0</td>\n",
       "    </tr>\n",
       "    <tr>\n",
       "      <th>2</th>\n",
       "      <td>3</td>\n",
       "      <td>Cruella</td>\n",
       "      <td>May 28, 2021</td>\n",
       "      <td>Walt Disney</td>\n",
       "      <td>Comedy</td>\n",
       "      <td>$71,382,602</td>\n",
       "      <td>7792860.0</td>\n",
       "    </tr>\n",
       "    <tr>\n",
       "      <th>3</th>\n",
       "      <td>4</td>\n",
       "      <td>F9: The Fast Saga</td>\n",
       "      <td>Jun 25, 2021</td>\n",
       "      <td>Universal</td>\n",
       "      <td>Action</td>\n",
       "      <td>$70,043,165</td>\n",
       "      <td>7646633.0</td>\n",
       "    </tr>\n",
       "    <tr>\n",
       "      <th>4</th>\n",
       "      <td>5</td>\n",
       "      <td>The Conjuring: The Devil Ma…</td>\n",
       "      <td>Jun 4, 2021</td>\n",
       "      <td>Warner Bros.</td>\n",
       "      <td>Horror</td>\n",
       "      <td>$59,204,511</td>\n",
       "      <td>6463374.0</td>\n",
       "    </tr>\n",
       "  </tbody>\n",
       "</table>\n",
       "</div>"
      ],
      "text/plain": [
       "  Rank                         Movie   ReleaseDate         Distributor  \\\n",
       "0    1        A Quiet Place: Part II  May 28, 2021  Paramount Pictures   \n",
       "1    2             Godzilla vs. Kong  Mar 31, 2021        Warner Bros.   \n",
       "2    3                       Cruella  May 28, 2021         Walt Disney   \n",
       "3    4             F9: The Fast Saga  Jun 25, 2021           Universal   \n",
       "4    5  The Conjuring: The Devil Ma…   Jun 4, 2021        Warner Bros.   \n",
       "\n",
       "    Genre    2021 Gross  Tickets Sold  \n",
       "0  Horror  $136,381,860    14888849.0  \n",
       "1  Action  $100,392,257    10959853.0  \n",
       "2  Comedy   $71,382,602     7792860.0  \n",
       "3  Action   $70,043,165     7646633.0  \n",
       "4  Horror   $59,204,511     6463374.0  "
      ]
     },
     "execution_count": 5,
     "metadata": {},
     "output_type": "execute_result"
    }
   ],
   "source": [
    "movie.head()"
   ]
  },
  {
   "cell_type": "code",
   "execution_count": 6,
   "id": "cb58db2f",
   "metadata": {},
   "outputs": [
    {
     "data": {
      "text/html": [
       "<div>\n",
       "<style scoped>\n",
       "    .dataframe tbody tr th:only-of-type {\n",
       "        vertical-align: middle;\n",
       "    }\n",
       "\n",
       "    .dataframe tbody tr th {\n",
       "        vertical-align: top;\n",
       "    }\n",
       "\n",
       "    .dataframe thead th {\n",
       "        text-align: right;\n",
       "    }\n",
       "</style>\n",
       "<table border=\"1\" class=\"dataframe\">\n",
       "  <thead>\n",
       "    <tr style=\"text-align: right;\">\n",
       "      <th></th>\n",
       "      <th>Rank</th>\n",
       "      <th>Movie</th>\n",
       "      <th>ReleaseDate</th>\n",
       "      <th>Distributor</th>\n",
       "      <th>Genre</th>\n",
       "      <th>2021 Gross</th>\n",
       "      <th>Tickets Sold</th>\n",
       "    </tr>\n",
       "  </thead>\n",
       "  <tbody>\n",
       "    <tr>\n",
       "      <th>194</th>\n",
       "      <td>195</td>\n",
       "      <td>The Bra</td>\n",
       "      <td>Oct 16, 2020</td>\n",
       "      <td>Indican Pictures</td>\n",
       "      <td>Comedy</td>\n",
       "      <td>$572</td>\n",
       "      <td>62.0</td>\n",
       "    </tr>\n",
       "    <tr>\n",
       "      <th>195</th>\n",
       "      <td>196</td>\n",
       "      <td>Funhouse</td>\n",
       "      <td>May 28, 2021</td>\n",
       "      <td>Magnet Releasing</td>\n",
       "      <td>Horror</td>\n",
       "      <td>$507</td>\n",
       "      <td>55.0</td>\n",
       "    </tr>\n",
       "    <tr>\n",
       "      <th>196</th>\n",
       "      <td>197</td>\n",
       "      <td>The Evil Next Door</td>\n",
       "      <td>Jun 25, 2021</td>\n",
       "      <td>Magnet Releasing</td>\n",
       "      <td>Horror</td>\n",
       "      <td>$303</td>\n",
       "      <td>33.0</td>\n",
       "    </tr>\n",
       "    <tr>\n",
       "      <th>197</th>\n",
       "      <td>Total Gross of All Movies</td>\n",
       "      <td>Total Gross of All Movies</td>\n",
       "      <td>Total Gross of All Movies</td>\n",
       "      <td>Total Gross of All Movies</td>\n",
       "      <td>Total Gross of All Movies</td>\n",
       "      <td>$1,024,231,962</td>\n",
       "      <td>NaN</td>\n",
       "    </tr>\n",
       "    <tr>\n",
       "      <th>198</th>\n",
       "      <td>Total Tickets Sold</td>\n",
       "      <td>Total Tickets Sold</td>\n",
       "      <td>Total Tickets Sold</td>\n",
       "      <td>Total Tickets Sold</td>\n",
       "      <td>Total Tickets Sold</td>\n",
       "      <td>Total Tickets Sold</td>\n",
       "      <td>111815621.0</td>\n",
       "    </tr>\n",
       "  </tbody>\n",
       "</table>\n",
       "</div>"
      ],
      "text/plain": [
       "                          Rank                      Movie  \\\n",
       "194                        195                    The Bra   \n",
       "195                        196                   Funhouse   \n",
       "196                        197         The Evil Next Door   \n",
       "197  Total Gross of All Movies  Total Gross of All Movies   \n",
       "198         Total Tickets Sold         Total Tickets Sold   \n",
       "\n",
       "                   ReleaseDate                Distributor  \\\n",
       "194               Oct 16, 2020           Indican Pictures   \n",
       "195               May 28, 2021           Magnet Releasing   \n",
       "196               Jun 25, 2021           Magnet Releasing   \n",
       "197  Total Gross of All Movies  Total Gross of All Movies   \n",
       "198         Total Tickets Sold         Total Tickets Sold   \n",
       "\n",
       "                         Genre          2021 Gross  Tickets Sold  \n",
       "194                     Comedy                $572          62.0  \n",
       "195                     Horror                $507          55.0  \n",
       "196                     Horror                $303          33.0  \n",
       "197  Total Gross of All Movies      $1,024,231,962           NaN  \n",
       "198         Total Tickets Sold  Total Tickets Sold   111815621.0  "
      ]
     },
     "execution_count": 6,
     "metadata": {},
     "output_type": "execute_result"
    }
   ],
   "source": [
    "movie.tail()"
   ]
  },
  {
   "cell_type": "markdown",
   "id": "13f5bb83",
   "metadata": {},
   "source": [
    "###### Let `Rank` be the index of `movie` and we remove the last two rows."
   ]
  },
  {
   "cell_type": "code",
   "execution_count": 7,
   "id": "edbd4fc9",
   "metadata": {},
   "outputs": [],
   "source": [
    "movie.set_index('Rank', inplace=True)\n",
    "movie = movie.drop(['Total Gross of All Movies', 'Total Tickets Sold'], axis = 0)"
   ]
  },
  {
   "cell_type": "code",
   "execution_count": 8,
   "id": "e6efc86d",
   "metadata": {},
   "outputs": [
    {
     "data": {
      "text/html": [
       "<div>\n",
       "<style scoped>\n",
       "    .dataframe tbody tr th:only-of-type {\n",
       "        vertical-align: middle;\n",
       "    }\n",
       "\n",
       "    .dataframe tbody tr th {\n",
       "        vertical-align: top;\n",
       "    }\n",
       "\n",
       "    .dataframe thead th {\n",
       "        text-align: right;\n",
       "    }\n",
       "</style>\n",
       "<table border=\"1\" class=\"dataframe\">\n",
       "  <thead>\n",
       "    <tr style=\"text-align: right;\">\n",
       "      <th></th>\n",
       "      <th>Movie</th>\n",
       "      <th>ReleaseDate</th>\n",
       "      <th>Distributor</th>\n",
       "      <th>Genre</th>\n",
       "      <th>2021 Gross</th>\n",
       "      <th>Tickets Sold</th>\n",
       "    </tr>\n",
       "    <tr>\n",
       "      <th>Rank</th>\n",
       "      <th></th>\n",
       "      <th></th>\n",
       "      <th></th>\n",
       "      <th></th>\n",
       "      <th></th>\n",
       "      <th></th>\n",
       "    </tr>\n",
       "  </thead>\n",
       "  <tbody>\n",
       "    <tr>\n",
       "      <th>1</th>\n",
       "      <td>A Quiet Place: Part II</td>\n",
       "      <td>May 28, 2021</td>\n",
       "      <td>Paramount Pictures</td>\n",
       "      <td>Horror</td>\n",
       "      <td>$136,381,860</td>\n",
       "      <td>14888849.0</td>\n",
       "    </tr>\n",
       "    <tr>\n",
       "      <th>2</th>\n",
       "      <td>Godzilla vs. Kong</td>\n",
       "      <td>Mar 31, 2021</td>\n",
       "      <td>Warner Bros.</td>\n",
       "      <td>Action</td>\n",
       "      <td>$100,392,257</td>\n",
       "      <td>10959853.0</td>\n",
       "    </tr>\n",
       "    <tr>\n",
       "      <th>3</th>\n",
       "      <td>Cruella</td>\n",
       "      <td>May 28, 2021</td>\n",
       "      <td>Walt Disney</td>\n",
       "      <td>Comedy</td>\n",
       "      <td>$71,382,602</td>\n",
       "      <td>7792860.0</td>\n",
       "    </tr>\n",
       "    <tr>\n",
       "      <th>4</th>\n",
       "      <td>F9: The Fast Saga</td>\n",
       "      <td>Jun 25, 2021</td>\n",
       "      <td>Universal</td>\n",
       "      <td>Action</td>\n",
       "      <td>$70,043,165</td>\n",
       "      <td>7646633.0</td>\n",
       "    </tr>\n",
       "    <tr>\n",
       "      <th>5</th>\n",
       "      <td>The Conjuring: The Devil Ma…</td>\n",
       "      <td>Jun 4, 2021</td>\n",
       "      <td>Warner Bros.</td>\n",
       "      <td>Horror</td>\n",
       "      <td>$59,204,511</td>\n",
       "      <td>6463374.0</td>\n",
       "    </tr>\n",
       "  </tbody>\n",
       "</table>\n",
       "</div>"
      ],
      "text/plain": [
       "                             Movie   ReleaseDate         Distributor   Genre  \\\n",
       "Rank                                                                           \n",
       "1           A Quiet Place: Part II  May 28, 2021  Paramount Pictures  Horror   \n",
       "2                Godzilla vs. Kong  Mar 31, 2021        Warner Bros.  Action   \n",
       "3                          Cruella  May 28, 2021         Walt Disney  Comedy   \n",
       "4                F9: The Fast Saga  Jun 25, 2021           Universal  Action   \n",
       "5     The Conjuring: The Devil Ma…   Jun 4, 2021        Warner Bros.  Horror   \n",
       "\n",
       "        2021 Gross  Tickets Sold  \n",
       "Rank                              \n",
       "1     $136,381,860    14888849.0  \n",
       "2     $100,392,257    10959853.0  \n",
       "3      $71,382,602     7792860.0  \n",
       "4      $70,043,165     7646633.0  \n",
       "5      $59,204,511     6463374.0  "
      ]
     },
     "execution_count": 8,
     "metadata": {},
     "output_type": "execute_result"
    }
   ],
   "source": [
    "movie.head()"
   ]
  },
  {
   "cell_type": "code",
   "execution_count": 9,
   "id": "b5ba1413",
   "metadata": {
    "scrolled": true
   },
   "outputs": [
    {
     "data": {
      "text/html": [
       "<div>\n",
       "<style scoped>\n",
       "    .dataframe tbody tr th:only-of-type {\n",
       "        vertical-align: middle;\n",
       "    }\n",
       "\n",
       "    .dataframe tbody tr th {\n",
       "        vertical-align: top;\n",
       "    }\n",
       "\n",
       "    .dataframe thead th {\n",
       "        text-align: right;\n",
       "    }\n",
       "</style>\n",
       "<table border=\"1\" class=\"dataframe\">\n",
       "  <thead>\n",
       "    <tr style=\"text-align: right;\">\n",
       "      <th></th>\n",
       "      <th>Movie</th>\n",
       "      <th>ReleaseDate</th>\n",
       "      <th>Distributor</th>\n",
       "      <th>Genre</th>\n",
       "      <th>2021 Gross</th>\n",
       "      <th>Tickets Sold</th>\n",
       "    </tr>\n",
       "    <tr>\n",
       "      <th>Rank</th>\n",
       "      <th></th>\n",
       "      <th></th>\n",
       "      <th></th>\n",
       "      <th></th>\n",
       "      <th></th>\n",
       "      <th></th>\n",
       "    </tr>\n",
       "  </thead>\n",
       "  <tbody>\n",
       "    <tr>\n",
       "      <th>193</th>\n",
       "      <td>Killer Raccoons 2: Dark Chr…</td>\n",
       "      <td>Jul 31, 2020</td>\n",
       "      <td>Indican Pictures</td>\n",
       "      <td>Comedy</td>\n",
       "      <td>$900</td>\n",
       "      <td>98.0</td>\n",
       "    </tr>\n",
       "    <tr>\n",
       "      <th>194</th>\n",
       "      <td>The Forgotten Carols</td>\n",
       "      <td>Nov 20, 2020</td>\n",
       "      <td>Purdie Distribution</td>\n",
       "      <td>Musical</td>\n",
       "      <td>$623</td>\n",
       "      <td>68.0</td>\n",
       "    </tr>\n",
       "    <tr>\n",
       "      <th>195</th>\n",
       "      <td>The Bra</td>\n",
       "      <td>Oct 16, 2020</td>\n",
       "      <td>Indican Pictures</td>\n",
       "      <td>Comedy</td>\n",
       "      <td>$572</td>\n",
       "      <td>62.0</td>\n",
       "    </tr>\n",
       "    <tr>\n",
       "      <th>196</th>\n",
       "      <td>Funhouse</td>\n",
       "      <td>May 28, 2021</td>\n",
       "      <td>Magnet Releasing</td>\n",
       "      <td>Horror</td>\n",
       "      <td>$507</td>\n",
       "      <td>55.0</td>\n",
       "    </tr>\n",
       "    <tr>\n",
       "      <th>197</th>\n",
       "      <td>The Evil Next Door</td>\n",
       "      <td>Jun 25, 2021</td>\n",
       "      <td>Magnet Releasing</td>\n",
       "      <td>Horror</td>\n",
       "      <td>$303</td>\n",
       "      <td>33.0</td>\n",
       "    </tr>\n",
       "  </tbody>\n",
       "</table>\n",
       "</div>"
      ],
      "text/plain": [
       "                             Movie   ReleaseDate          Distributor  \\\n",
       "Rank                                                                    \n",
       "193   Killer Raccoons 2: Dark Chr…  Jul 31, 2020     Indican Pictures   \n",
       "194           The Forgotten Carols  Nov 20, 2020  Purdie Distribution   \n",
       "195                        The Bra  Oct 16, 2020     Indican Pictures   \n",
       "196                       Funhouse  May 28, 2021     Magnet Releasing   \n",
       "197             The Evil Next Door  Jun 25, 2021     Magnet Releasing   \n",
       "\n",
       "        Genre 2021 Gross  Tickets Sold  \n",
       "Rank                                    \n",
       "193    Comedy       $900          98.0  \n",
       "194   Musical       $623          68.0  \n",
       "195    Comedy       $572          62.0  \n",
       "196    Horror       $507          55.0  \n",
       "197    Horror       $303          33.0  "
      ]
     },
     "execution_count": 9,
     "metadata": {},
     "output_type": "execute_result"
    }
   ],
   "source": [
    "movie.tail()"
   ]
  },
  {
   "cell_type": "markdown",
   "id": "55625367",
   "metadata": {},
   "source": [
    "###### We did it! The following two cells show how to see what columns are in the table."
   ]
  },
  {
   "cell_type": "code",
   "execution_count": 10,
   "id": "7c50babf",
   "metadata": {},
   "outputs": [
    {
     "name": "stdout",
     "output_type": "stream",
     "text": [
      "Movie\n",
      "ReleaseDate\n",
      "Distributor\n",
      "Genre\n",
      "2021 Gross\n",
      "Tickets Sold\n"
     ]
    }
   ],
   "source": [
    "for col in movie.columns:\n",
    "    print(col)"
   ]
  },
  {
   "cell_type": "code",
   "execution_count": 11,
   "id": "c45ba8de",
   "metadata": {},
   "outputs": [
    {
     "data": {
      "text/plain": [
       "['Movie', 'ReleaseDate', 'Distributor', 'Genre', '2021 Gross', 'Tickets Sold']"
      ]
     },
     "execution_count": 11,
     "metadata": {},
     "output_type": "execute_result"
    }
   ],
   "source": [
    "list(movie.columns.values)"
   ]
  },
  {
   "cell_type": "markdown",
   "id": "5729c896",
   "metadata": {},
   "source": [
    "###### The following cell shows how to see what `Genre` consists of."
   ]
  },
  {
   "cell_type": "code",
   "execution_count": 12,
   "id": "a3858d94",
   "metadata": {},
   "outputs": [
    {
     "data": {
      "text/plain": [
       "array(['Horror', 'Action', 'Comedy', 'Adventure', 'Thriller/Suspense',\n",
       "       'Musical', 'Western', 'Drama', 'Black Comedy', 'Romantic Comedy',\n",
       "       'Concert/Perfor…', 'Documentary', 'Multiple Genres'], dtype=object)"
      ]
     },
     "execution_count": 12,
     "metadata": {},
     "output_type": "execute_result"
    }
   ],
   "source": [
    "movie['Genre'].unique()"
   ]
  },
  {
   "cell_type": "markdown",
   "id": "cefde43e",
   "metadata": {},
   "source": [
    "###### We want to see the list of popular horror movies."
   ]
  },
  {
   "cell_type": "code",
   "execution_count": 13,
   "id": "0423e387",
   "metadata": {},
   "outputs": [
    {
     "data": {
      "text/html": [
       "<div>\n",
       "<style scoped>\n",
       "    .dataframe tbody tr th:only-of-type {\n",
       "        vertical-align: middle;\n",
       "    }\n",
       "\n",
       "    .dataframe tbody tr th {\n",
       "        vertical-align: top;\n",
       "    }\n",
       "\n",
       "    .dataframe thead th {\n",
       "        text-align: right;\n",
       "    }\n",
       "</style>\n",
       "<table border=\"1\" class=\"dataframe\">\n",
       "  <thead>\n",
       "    <tr style=\"text-align: right;\">\n",
       "      <th></th>\n",
       "      <th>Movie</th>\n",
       "    </tr>\n",
       "    <tr>\n",
       "      <th>Rank</th>\n",
       "      <th></th>\n",
       "    </tr>\n",
       "  </thead>\n",
       "  <tbody>\n",
       "    <tr>\n",
       "      <th>1</th>\n",
       "      <td>A Quiet Place: Part II</td>\n",
       "    </tr>\n",
       "    <tr>\n",
       "      <th>5</th>\n",
       "      <td>The Conjuring: The Devil Ma…</td>\n",
       "    </tr>\n",
       "    <tr>\n",
       "      <th>16</th>\n",
       "      <td>Spiral</td>\n",
       "    </tr>\n",
       "    <tr>\n",
       "      <th>20</th>\n",
       "      <td>The Unholy</td>\n",
       "    </tr>\n",
       "    <tr>\n",
       "      <th>30</th>\n",
       "      <td>Separation</td>\n",
       "    </tr>\n",
       "    <tr>\n",
       "      <th>49</th>\n",
       "      <td>Wrong Turn</td>\n",
       "    </tr>\n",
       "    <tr>\n",
       "      <th>51</th>\n",
       "      <td>In the Earth</td>\n",
       "    </tr>\n",
       "    <tr>\n",
       "      <th>53</th>\n",
       "      <td>Come Play</td>\n",
       "    </tr>\n",
       "    <tr>\n",
       "      <th>67</th>\n",
       "      <td>Willyâs Wonderland</td>\n",
       "    </tr>\n",
       "    <tr>\n",
       "      <th>79</th>\n",
       "      <td>Freaky</td>\n",
       "    </tr>\n",
       "    <tr>\n",
       "      <th>80</th>\n",
       "      <td>Werewolves Within</td>\n",
       "    </tr>\n",
       "    <tr>\n",
       "      <th>81</th>\n",
       "      <td>Murder in the Woods</td>\n",
       "    </tr>\n",
       "    <tr>\n",
       "      <th>85</th>\n",
       "      <td>The Resort</td>\n",
       "    </tr>\n",
       "    <tr>\n",
       "      <th>91</th>\n",
       "      <td>The Reckoning</td>\n",
       "    </tr>\n",
       "    <tr>\n",
       "      <th>93</th>\n",
       "      <td>Held</td>\n",
       "    </tr>\n",
       "    <tr>\n",
       "      <th>96</th>\n",
       "      <td>Gaia</td>\n",
       "    </tr>\n",
       "    <tr>\n",
       "      <th>97</th>\n",
       "      <td>The Djinn</td>\n",
       "    </tr>\n",
       "    <tr>\n",
       "      <th>104</th>\n",
       "      <td>Psycho Goreman</td>\n",
       "    </tr>\n",
       "    <tr>\n",
       "      <th>107</th>\n",
       "      <td>Censor</td>\n",
       "    </tr>\n",
       "    <tr>\n",
       "      <th>114</th>\n",
       "      <td>Come True</td>\n",
       "    </tr>\n",
       "    <tr>\n",
       "      <th>115</th>\n",
       "      <td>Alien</td>\n",
       "    </tr>\n",
       "    <tr>\n",
       "      <th>116</th>\n",
       "      <td>Son</td>\n",
       "    </tr>\n",
       "    <tr>\n",
       "      <th>121</th>\n",
       "      <td>The Vigil</td>\n",
       "    </tr>\n",
       "    <tr>\n",
       "      <th>133</th>\n",
       "      <td>Bloody Hell</td>\n",
       "    </tr>\n",
       "    <tr>\n",
       "      <th>138</th>\n",
       "      <td>Jakobâs Wife</td>\n",
       "    </tr>\n",
       "    <tr>\n",
       "      <th>158</th>\n",
       "      <td>Hunter Hunter</td>\n",
       "    </tr>\n",
       "    <tr>\n",
       "      <th>167</th>\n",
       "      <td>The Boonies</td>\n",
       "    </tr>\n",
       "    <tr>\n",
       "      <th>169</th>\n",
       "      <td>Ghost Master</td>\n",
       "    </tr>\n",
       "    <tr>\n",
       "      <th>175</th>\n",
       "      <td>The Dark and The Wicked</td>\n",
       "    </tr>\n",
       "    <tr>\n",
       "      <th>185</th>\n",
       "      <td>Crack House of the Dead</td>\n",
       "    </tr>\n",
       "    <tr>\n",
       "      <th>196</th>\n",
       "      <td>Funhouse</td>\n",
       "    </tr>\n",
       "    <tr>\n",
       "      <th>197</th>\n",
       "      <td>The Evil Next Door</td>\n",
       "    </tr>\n",
       "  </tbody>\n",
       "</table>\n",
       "</div>"
      ],
      "text/plain": [
       "                             Movie\n",
       "Rank                              \n",
       "1           A Quiet Place: Part II\n",
       "5     The Conjuring: The Devil Ma…\n",
       "16                          Spiral\n",
       "20                      The Unholy\n",
       "30                      Separation\n",
       "49                      Wrong Turn\n",
       "51                    In the Earth\n",
       "53                       Come Play\n",
       "67            Willyâs Wonderland\n",
       "79                          Freaky\n",
       "80               Werewolves Within\n",
       "81             Murder in the Woods\n",
       "85                      The Resort\n",
       "91                   The Reckoning\n",
       "93                            Held\n",
       "96                            Gaia\n",
       "97                       The Djinn\n",
       "104                 Psycho Goreman\n",
       "107                         Censor\n",
       "114                      Come True\n",
       "115                          Alien\n",
       "116                            Son\n",
       "121                      The Vigil\n",
       "133                    Bloody Hell\n",
       "138                 Jakobâs Wife\n",
       "158                  Hunter Hunter\n",
       "167                    The Boonies\n",
       "169                   Ghost Master\n",
       "175        The Dark and The Wicked\n",
       "185        Crack House of the Dead\n",
       "196                       Funhouse\n",
       "197             The Evil Next Door"
      ]
     },
     "execution_count": 13,
     "metadata": {},
     "output_type": "execute_result"
    }
   ],
   "source": [
    "horror = movie[(movie['Genre'] == \"Horror\")]\n",
    "pd.DataFrame(horror['Movie'])"
   ]
  },
  {
   "cell_type": "markdown",
   "id": "dd856fd6",
   "metadata": {},
   "source": [
    "###### Now, we want to see how much those movies earn and how many tickets are sold in 2021. We will check the average of top 197 movies. First let's see if they are numbers or objects."
   ]
  },
  {
   "cell_type": "code",
   "execution_count": 14,
   "id": "b0f51e54",
   "metadata": {},
   "outputs": [
    {
     "name": "stdout",
     "output_type": "stream",
     "text": [
      "Movie            object\n",
      "ReleaseDate      object\n",
      "Distributor      object\n",
      "Genre            object\n",
      "2021 Gross       object\n",
      "Tickets Sold    float64\n",
      "dtype: object\n"
     ]
    }
   ],
   "source": [
    "print(movie.dtypes)"
   ]
  },
  {
   "cell_type": "markdown",
   "id": "e909dc68",
   "metadata": {},
   "source": [
    "###### We want to convert each object in 2021 Gross to float. "
   ]
  },
  {
   "cell_type": "code",
   "execution_count": 15,
   "id": "82a98456",
   "metadata": {
    "scrolled": true
   },
   "outputs": [],
   "source": [
    "movie['2021 Gross'] = movie['2021 Gross'].str.replace(',', '')\n",
    "movie['2021 Gross'] = [float(x.strip('$')) if type(x) == str else x for x in movie['2021 Gross']]"
   ]
  },
  {
   "cell_type": "code",
   "execution_count": 16,
   "id": "026047dc",
   "metadata": {},
   "outputs": [
    {
     "name": "stdout",
     "output_type": "stream",
     "text": [
      "Movie            object\n",
      "ReleaseDate      object\n",
      "Distributor      object\n",
      "Genre            object\n",
      "2021 Gross      float64\n",
      "Tickets Sold    float64\n",
      "dtype: object\n"
     ]
    }
   ],
   "source": [
    "print(movie.dtypes)"
   ]
  },
  {
   "cell_type": "markdown",
   "id": "3dd9472d",
   "metadata": {},
   "source": [
    "Now, let's see the averages of `2021 Gross` and `Tickets Sold`."
   ]
  },
  {
   "cell_type": "code",
   "execution_count": 17,
   "id": "e2a492f3",
   "metadata": {},
   "outputs": [
    {
     "data": {
      "text/plain": [
       "5199147.015228426"
      ]
     },
     "execution_count": 17,
     "metadata": {},
     "output_type": "execute_result"
    }
   ],
   "source": [
    "movie['2021 Gross'].mean()"
   ]
  },
  {
   "cell_type": "code",
   "execution_count": 18,
   "id": "afc8c57a",
   "metadata": {},
   "outputs": [
    {
     "data": {
      "text/plain": [
       "567591.9847715736"
      ]
     },
     "execution_count": 18,
     "metadata": {},
     "output_type": "execute_result"
    }
   ],
   "source": [
    "movie['Tickets Sold'].mean()"
   ]
  }
 ],
 "metadata": {
  "kernelspec": {
   "display_name": "Python 3",
   "language": "python",
   "name": "python3"
  },
  "language_info": {
   "codemirror_mode": {
    "name": "ipython",
    "version": 3
   },
   "file_extension": ".py",
   "mimetype": "text/x-python",
   "name": "python",
   "nbconvert_exporter": "python",
   "pygments_lexer": "ipython3",
   "version": "3.8.5"
  }
 },
 "nbformat": 4,
 "nbformat_minor": 5
}
