{
 "cells": [
  {
   "cell_type": "code",
   "execution_count": 1,
   "id": "23f8dd58",
   "metadata": {},
   "outputs": [
    {
     "name": "stdout",
     "output_type": "stream",
     "text": [
      "Popular Horror movie in 2021\n"
     ]
    },
    {
     "name": "stderr",
     "output_type": "stream",
     "text": [
      "WARNING 2021-06-29 12:16:10,970 will show the data of the requested genre.\n"
     ]
    },
    {
     "name": "stdout",
     "output_type": "stream",
     "text": [
      "                             Movie\n",
      "Rank                              \n",
      "1           A Quiet Place: Part II\n",
      "5     The Conjuring: The Devil Ma…\n",
      "16                          Spiral\n",
      "20                      The Unholy\n",
      "30                      Separation\n",
      "49                      Wrong Turn\n",
      "51                    In the Earth\n",
      "53                       Come Play\n",
      "67            Willyâs Wonderland\n",
      "79                          Freaky\n",
      "80               Werewolves Within\n",
      "81             Murder in the Woods\n",
      "85                      The Resort\n",
      "91                   The Reckoning\n",
      "93                            Held\n",
      "96                            Gaia\n",
      "97                       The Djinn\n",
      "104                 Psycho Goreman\n",
      "107                         Censor\n",
      "114                      Come True\n",
      "115                          Alien\n",
      "116                            Son\n",
      "121                      The Vigil\n",
      "133                    Bloody Hell\n",
      "138                 Jakobâs Wife\n",
      "158                  Hunter Hunter\n",
      "167                    The Boonies\n",
      "169                   Ghost Master\n",
      "175        The Dark and The Wicked\n",
      "185        Crack House of the Dead\n",
      "196                       Funhouse\n",
      "197             The Evil Next Door\n"
     ]
    }
   ],
   "source": [
    "from logger import logger\n",
    "\n",
    "from refinement_for_practice_logging import refinement\n",
    "print(\"Popular Horror movie in 2021\")\n",
    "print(refinement(\"Horror\"))"
   ]
  }
 ],
 "metadata": {
  "kernelspec": {
   "display_name": "Python 3",
   "language": "python",
   "name": "python3"
  },
  "language_info": {
   "codemirror_mode": {
    "name": "ipython",
    "version": 3
   },
   "file_extension": ".py",
   "mimetype": "text/x-python",
   "name": "python",
   "nbconvert_exporter": "python",
   "pygments_lexer": "ipython3",
   "version": "3.8.5"
  }
 },
 "nbformat": 4,
 "nbformat_minor": 5
}
