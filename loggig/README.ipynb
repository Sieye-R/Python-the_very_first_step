{
 "cells": [
  {
   "cell_type": "markdown",
   "id": "55009ec9",
   "metadata": {},
   "source": [
    "# Logging, Read me"
   ]
  },
  {
   "cell_type": "markdown",
   "id": "c281aa1a",
   "metadata": {},
   "source": [
    "In this directory, we study logging. Logging is a means of tracking events that happen when some software runs. \n",
    "For more details, see https://docs.python.org/3/howto/logging.html#logging-basic-tutorial.\n",
    "\n",
    "\n",
    "We download the table which contains popular movies in 2021 on the website.\n",
    "We print \n",
    "\n",
    "(1) the list of popular horror movies and \n",
    "\n",
    "(2) the average of Tickets Sold.\n",
    "\n",
    "We also try to print the average of 2021 Gross to run errors. In the data frame, 2021 Gross is an object.\n",
    "\n",
    "The table is as follows: "
   ]
  },
  {
   "cell_type": "code",
   "execution_count": 1,
   "id": "2b40c8eb",
   "metadata": {
    "scrolled": true
   },
   "outputs": [
    {
     "data": {
      "text/html": [
       "<div>\n",
       "<style scoped>\n",
       "    .dataframe tbody tr th:only-of-type {\n",
       "        vertical-align: middle;\n",
       "    }\n",
       "\n",
       "    .dataframe tbody tr th {\n",
       "        vertical-align: top;\n",
       "    }\n",
       "\n",
       "    .dataframe thead th {\n",
       "        text-align: right;\n",
       "    }\n",
       "</style>\n",
       "<table border=\"1\" class=\"dataframe\">\n",
       "  <thead>\n",
       "    <tr style=\"text-align: right;\">\n",
       "      <th></th>\n",
       "      <th>Movie</th>\n",
       "      <th>ReleaseDate</th>\n",
       "      <th>Distributor</th>\n",
       "      <th>Genre</th>\n",
       "      <th>2021 Gross</th>\n",
       "      <th>Tickets Sold</th>\n",
       "    </tr>\n",
       "    <tr>\n",
       "      <th>Rank</th>\n",
       "      <th></th>\n",
       "      <th></th>\n",
       "      <th></th>\n",
       "      <th></th>\n",
       "      <th></th>\n",
       "      <th></th>\n",
       "    </tr>\n",
       "  </thead>\n",
       "  <tbody>\n",
       "    <tr>\n",
       "      <th>1</th>\n",
       "      <td>A Quiet Place: Part II</td>\n",
       "      <td>May 28, 2021</td>\n",
       "      <td>Paramount Pictures</td>\n",
       "      <td>Horror</td>\n",
       "      <td>$137,363,444</td>\n",
       "      <td>14996009.0</td>\n",
       "    </tr>\n",
       "    <tr>\n",
       "      <th>2</th>\n",
       "      <td>Godzilla vs. Kong</td>\n",
       "      <td>Mar 31, 2021</td>\n",
       "      <td>Warner Bros.</td>\n",
       "      <td>Action</td>\n",
       "      <td>$100,392,257</td>\n",
       "      <td>10959853.0</td>\n",
       "    </tr>\n",
       "    <tr>\n",
       "      <th>3</th>\n",
       "      <td>F9: The Fast Saga</td>\n",
       "      <td>Jun 25, 2021</td>\n",
       "      <td>Universal</td>\n",
       "      <td>Action</td>\n",
       "      <td>$76,637,530</td>\n",
       "      <td>8366542.0</td>\n",
       "    </tr>\n",
       "    <tr>\n",
       "      <th>4</th>\n",
       "      <td>Cruella</td>\n",
       "      <td>May 28, 2021</td>\n",
       "      <td>Walt Disney</td>\n",
       "      <td>Comedy</td>\n",
       "      <td>$72,033,000</td>\n",
       "      <td>7863864.0</td>\n",
       "    </tr>\n",
       "    <tr>\n",
       "      <th>5</th>\n",
       "      <td>The Conjuring: The Devil Ma…</td>\n",
       "      <td>Jun 4, 2021</td>\n",
       "      <td>Warner Bros.</td>\n",
       "      <td>Horror</td>\n",
       "      <td>$59,204,511</td>\n",
       "      <td>6463374.0</td>\n",
       "    </tr>\n",
       "  </tbody>\n",
       "</table>\n",
       "</div>"
      ],
      "text/plain": [
       "                             Movie   ReleaseDate         Distributor   Genre  \\\n",
       "Rank                                                                           \n",
       "1           A Quiet Place: Part II  May 28, 2021  Paramount Pictures  Horror   \n",
       "2                Godzilla vs. Kong  Mar 31, 2021        Warner Bros.  Action   \n",
       "3                F9: The Fast Saga  Jun 25, 2021           Universal  Action   \n",
       "4                          Cruella  May 28, 2021         Walt Disney  Comedy   \n",
       "5     The Conjuring: The Devil Ma…   Jun 4, 2021        Warner Bros.  Horror   \n",
       "\n",
       "        2021 Gross  Tickets Sold  \n",
       "Rank                              \n",
       "1     $137,363,444    14996009.0  \n",
       "2     $100,392,257    10959853.0  \n",
       "3      $76,637,530     8366542.0  \n",
       "4      $72,033,000     7863864.0  \n",
       "5      $59,204,511     6463374.0  "
      ]
     },
     "execution_count": 1,
     "metadata": {},
     "output_type": "execute_result"
    }
   ],
   "source": [
    "import pandas as pd\n",
    "import numpy as np\n",
    "import requests\n",
    "\n",
    "html_url = \"https://www.the-numbers.com/market/2021/top-grossing-movies\"\n",
    "r = requests.get(html_url)\n",
    "top_movie = pd.read_html(r.text, header=0)\n",
    "movie = top_movie[0]\n",
    "movie.set_index('Rank', inplace=True)\n",
    "movie.head()"
   ]
  },
  {
   "cell_type": "markdown",
   "id": "b9845ec3",
   "metadata": {},
   "source": [
    "## Reading HTML tables using Pandas.ipynb\n",
    "\n",
    "I also analised the above data frame in the file `Reading HTML tables using Pandas.ipynb`.\n",
    "\n",
    "I watched the tutorial on YouTube\n",
    "<a href=\"https://www.youtube.com/watch?v=r-uOLxNrNk8&t=13929s\">\"Data Analysis with Python - Full Course for Beginners (Numpy, Pandas, Matplotlib, Seaborn)\"</a>\n",
    "with <a href=\"https://github.com/ine-rmotr-curriculum\">some materials on github</a>.\n",
    "\n",
    "I also watched the turorial on YouTube\n",
    "<a href=\"https://www.youtube.com/watch?v=0P7QnIQDBJY\">\"Python Plotting Tutorial w/ Matplotlib & Pandas (Line Graph, Histogram, Pie Chart, Box & Whiskers)\"</a>"
   ]
  },
  {
   "cell_type": "markdown",
   "id": "dcca9cb5",
   "metadata": {},
   "source": [
    "## (1) The list of popular horror movies\n",
    "\n",
    "To practice logging, we print the list of popular horror movies.\n",
    "Here, the following four files are involved by inheritance.\n",
    "<ul>\n",
    "<li>logger.py</li>\n",
    "<li>fetch_for_practice_logging.py</li>\n",
    "<li>refinement_for_practice_logging.py</li>\n",
    "<li>practice_logging1.py</li>\n",
    "    </ul>\n",
    "    \n",
    "To study inheritance, I watched the tutorial \n",
    "<a href=\"https://www.youtube.com/watch?v=z6MCR2O0yak\">\"Inheritance\"</a>\n",
    "<br> To study logging, I watched the tutorials \n",
    "<ul>\n",
    "<li> \n",
    "<a href=\"https://calmcode.io/logging/introduction.html\">\"Logging: better hindsight\"</a>\n",
    "</li>\n",
    "<li>\n",
    "<a href=\"https://www.youtube.com/watch?v=p0A4CV4MWd0&list=PLqnslRFeH2UqLwzS0AwKDKLrpYBKzLBy2&index=10&t=11s\">\"Logging in Python\"</a>\n",
    "</li></ul>"
   ]
  },
  {
   "cell_type": "code",
   "execution_count": null,
   "id": "56dc3a2f",
   "metadata": {},
   "outputs": [],
   "source": [
    "# logger.py\n",
    "\n",
    "import logging\n",
    "\n",
    "logger = logging.getLogger(__name__)\n",
    "\n",
    "# handlers to determine the destination of log messages\n",
    "stream_handler = logging.StreamHandler() # command line interpreter\n",
    "file_handler = logging.FileHandler(\"debug.log\") # file\n",
    "\n",
    "# set levels\n",
    "logger.setLevel(logging.DEBUG) # all levels\n",
    "stream_handler.setLevel(logging.WARNING) # only serious three levels on command line interpreter\n",
    "file_handler.setLevel(logging.DEBUG) # details in the file\n",
    "\n",
    "# formatters to determine the layouts of log messages\n",
    "fmt_stream = '%(levelname)s %(asctime)s %(message)s'\n",
    "fmt_file = '%(levelname)s %(asctime)s [%(filename)s:%(funcName)s:%(lineno)d] %(message)s'\n",
    "\n",
    "stream_formatter = logging.Formatter(fmt_stream)\n",
    "file_formatter = logging.Formatter(fmt_file)\n",
    "\n",
    "# here we hook everything together\n",
    "stream_handler.setFormatter(stream_formatter)\n",
    "file_handler.setFormatter(file_formatter)\n",
    "\n",
    "# add handlers from the logger\n",
    "logger.addHandler(stream_handler)\n",
    "logger.addHandler(file_handler)"
   ]
  },
  {
   "cell_type": "code",
   "execution_count": null,
   "id": "93e1f4d7",
   "metadata": {},
   "outputs": [],
   "source": [
    "# fetch_for_practice_logging.py\n",
    "\n",
    "import pandas as pd\n",
    "import numpy as np\n",
    "import requests\n",
    "from logger import logger\n",
    "\n",
    "def popular_movie():\n",
    "    html_url = \"https://www.the-numbers.com/market/2021/top-grossing-movies\"\n",
    "    r = requests.get(html_url)\n",
    "    logger.debug(f\"get {html_url}\")\n",
    "    top_movie = pd.read_html(r.text, header=0)\n",
    "    movie = top_movie[0]\n",
    "    logger.debug(f\"get the table movie from {html_url}\")\n",
    "    movie.set_index('Rank', inplace=True)\n",
    "    logger.debug(\"clean the data frame\")\n",
    "    return movie.drop(['Total Gross of All Movies', 'Total Tickets Sold'], axis = 0)"
   ]
  },
  {
   "cell_type": "code",
   "execution_count": null,
   "id": "11b49b8a",
   "metadata": {},
   "outputs": [],
   "source": [
    "# refinement_for_practice_logging\n",
    "\n",
    "import pandas as pd\n",
    "from fetch_for_practice_logging import popular_movie\n",
    "from logger import logger\n",
    "\n",
    "def refinement(genre):\n",
    "    logger.debug(\"about to download data.\")\n",
    "    movie = popular_movie()\n",
    "    logger.debug(\"data is downloaded.\")\n",
    "    genre = movie[(movie['Genre'] == genre)]\n",
    "    logger.warning(\"will show the data of the requested genre.\")\n",
    "    return pd.DataFrame(genre['Movie'])"
   ]
  },
  {
   "cell_type": "code",
   "execution_count": null,
   "id": "db8fe07c",
   "metadata": {},
   "outputs": [],
   "source": [
    "# practice_logging1.py\n",
    "\n",
    "import sys\n",
    "from logger import logger\n",
    "\n",
    "from refinement_for_practice_logging import refinement\n",
    "\n",
    "if __name__ == \"__main__\":\n",
    "    try:\n",
    "    genre = sys.argv[1]\n",
    "    logger.warning(\"Everything is going well.\")\n",
    "    print(f\"Popular {sys.argv[1]} movie in 2021 with the total ranks are {refinement(sys.argv[1])}.\")\n",
    "      \n",
    "    except BaseException:\n",
    "        logger.error(\"Error happened!\", exc_info=True)"
   ]
  },
  {
   "cell_type": "markdown",
   "id": "ffd0841f",
   "metadata": {},
   "source": [
    "On command line interpreter, I run the following command.\n",
    "\n",
    "`$ python practice_logging1.py Horror`"
   ]
  },
  {
   "cell_type": "markdown",
   "id": "5f9fde88",
   "metadata": {},
   "source": [
    "The interpreter shows warning, error and critical while the file `debug.log` shows debug, info, warning, error and critical."
   ]
  },
  {
   "cell_type": "markdown",
   "id": "cdccafc4",
   "metadata": {},
   "source": [
    "<img src=\"practice_logging(genre).png\">"
   ]
  },
  {
   "cell_type": "markdown",
   "id": "379c0a19",
   "metadata": {},
   "source": [
    "The file `debug.log` has the following log messages.\n",
    "\n",
    "WARNING 2021-06-29 13:18:57,167 [practice_logging1.py:<module>:8] Everything is going well.\n",
    "    \n",
    "DEBUG 2021-06-29 13:18:57,167 [refinement_for_practice_logging.py:refinement:6] is about to download data.\n",
    "    \n",
    "WARNING 2021-06-29 13:18:59,336 [fetch_for_practice_logging.py:popular_movie:9] get https://www.the-numbers.com/market/2021/top-grossing-movies  \n",
    "    \n",
    "WARNING 2021-06-29 13:18:59,376 [fetch_for_practice_logging.py:popular_movie:12] get the table movie from https://www.the-numbers.com/market/2021/top-grossing-movies\n",
    "    \n",
    "WARNING 2021-06-29 13:18:59,377 [fetch_for_practice_logging.py:popular_movie:14] clean the data frame\n",
    "    \n",
    "DEBUG 2021-06-29 13:18:59,378 [refinement_for_practice_logging.py:refinement:8] data is downloaded.\n",
    "    \n",
    "WARNING 2021-06-29 13:18:59,378 [refinement_for_practice_logging.py:refinement:10] will show the data of the requested genre."
   ]
  },
  {
   "cell_type": "markdown",
   "id": "160e1d72",
   "metadata": {},
   "source": [
    "### Logging on Jupyter Notebook\n",
    "I run a similar program on jupyter notebook instead of the console. It works well.\n",
    "See the file `practice_logging(genre).ipynb`."
   ]
  },
  {
   "cell_type": "markdown",
   "id": "3d3d47ed",
   "metadata": {},
   "source": [
    "## (2) The average of tickets sold.\n",
    "\n",
    "To practice logging, we print the average of tickets sold.\n",
    "Here, the following four files are involved by inheritance. The first two files are the same as the above.\n",
    "<ul>\n",
    "<li>logger.py</li>\n",
    "<li>fetch_for_practice_logging.py</li>\n",
    "<li>mean_for_practice_logging.py</li>\n",
    "<li>practice_logging2.py</li>\n",
    "    </ul>"
   ]
  },
  {
   "cell_type": "code",
   "execution_count": null,
   "id": "4215ff0a",
   "metadata": {},
   "outputs": [],
   "source": [
    "# mean_for_practice_logging.py\n",
    "\n",
    "import pandas\n",
    "from fetch_for_practice_logging import popular_movie\n",
    "from logger import logger\n",
    "\n",
    "def get_mean(ticker):\n",
    "    logger.debug(\"about to download data.\")\n",
    "    movie = popular_movie()  \n",
    "    logger.debug(\"data is downloaded.\")\n",
    "    return movie[ticker].mean()"
   ]
  },
  {
   "cell_type": "code",
   "execution_count": null,
   "id": "2409c38e",
   "metadata": {},
   "outputs": [],
   "source": [
    "# practice_logging2.py\n",
    "\n",
    "import sys\n",
    "from logger import logger\n",
    "\n",
    "from mean_for_practice_logging import get_mean\n",
    "\n",
    "if __name__ == \"__main__\":\n",
    "    try:\n",
    "        ticker = sys.argv[1]\n",
    "        logger.warning(\"ready to show the average.\")\n",
    "        print(f\"The average {sys.argv[1]} for movie in 2021 is {get_mean(sys.argv[1])}.\")\n",
    "    \n",
    "    except BaseException:\n",
    "        logger.error(\"Error happened!\", exc_info=True)"
   ]
  },
  {
   "cell_type": "markdown",
   "id": "62ae69c4",
   "metadata": {},
   "source": [
    "On command line interpreter, I run the following command.\n",
    "\n",
    "`$ python practice_logging2.py \"Tickets Sold\"`"
   ]
  },
  {
   "cell_type": "markdown",
   "id": "94c85c34",
   "metadata": {},
   "source": [
    "To cause errors, I run the following commands.\n",
    "\n",
    "<code>$ python practice_logging2.py \"Gross\"</code>\n",
    "\n",
    "<code>$ python practice_logging2.py \"2021 Gross\"</code>\n",
    "\n",
    "All the logging messages are recorded in the file `debug.log`."
   ]
  }
 ],
 "metadata": {
  "kernelspec": {
   "display_name": "Python 3",
   "language": "python",
   "name": "python3"
  },
  "language_info": {
   "codemirror_mode": {
    "name": "ipython",
    "version": 3
   },
   "file_extension": ".py",
   "mimetype": "text/x-python",
   "name": "python",
   "nbconvert_exporter": "python",
   "pygments_lexer": "ipython3",
   "version": "3.8.5"
  }
 },
 "nbformat": 4,
 "nbformat_minor": 5
}
