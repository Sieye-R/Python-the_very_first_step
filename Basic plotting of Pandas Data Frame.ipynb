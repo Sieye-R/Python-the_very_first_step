{
 "cells": [
  {
   "cell_type": "markdown",
   "id": "6334c08a",
   "metadata": {},
   "source": [
    "# Basic plotting of Pandas Data Frame"
   ]
  },
  {
   "cell_type": "markdown",
   "id": "86bb8d3c",
   "metadata": {},
   "source": [
    "In this article, we are interested in books which have been sold more than 50 millions copies worldwide. We will download relevant data on the internet and then analyse it. We will investigate plots as well. \n",
    "\n",
    "I watched the tutorial \"Data Analysis with Python - Full Course for Beginners (Numpy, Pandas, Matplotlib, Seaborn).\"\n",
    "\n",
    "https://www.youtube.com/watch?v=r-uOLxNrNk8&t=13929s\n",
    "\n",
    "https://github.com/ine-rmotr-curriculum\n",
    "\n",
    "I also watched the turorial \"Python Plotting Tutorial w/ Matplotlib & Pandas (Line Graph, Histogram, Pie Chart, Box & Whiskers).\"\n",
    "\n",
    "https://www.youtube.com/watch?v=0P7QnIQDBJY\n",
    "\n",
    "We first import some modules we need."
   ]
  },
  {
   "cell_type": "code",
   "execution_count": 1,
   "id": "95910e97",
   "metadata": {},
   "outputs": [],
   "source": [
    "import pandas as pd\n",
    "import numpy as np\n",
    "import matplotlib.pyplot as plt\n",
    "import requests"
   ]
  },
  {
   "cell_type": "markdown",
   "id": "2b7ea182",
   "metadata": {},
   "source": [
    "We can see the version of pandas with the following two methods.\n",
    "\n",
    "`print(pd.__version__)` in text editor\n",
    "\n",
    "`pip show pandas` in terminal"
   ]
  },
  {
   "cell_type": "code",
   "execution_count": 2,
   "id": "17c4e860",
   "metadata": {},
   "outputs": [
    {
     "name": "stdout",
     "output_type": "stream",
     "text": [
      "1.20.3\n"
     ]
    }
   ],
   "source": [
    "print(np.__version__)"
   ]
  },
  {
   "cell_type": "markdown",
   "id": "51c7bf04",
   "metadata": {},
   "source": [
    "How about matplotlib.pyplot?"
   ]
  },
  {
   "cell_type": "code",
   "execution_count": 3,
   "id": "0015376e",
   "metadata": {},
   "outputs": [
    {
     "name": "stdout",
     "output_type": "stream",
     "text": [
      "3.4.2\n"
     ]
    }
   ],
   "source": [
    "import matplotlib\n",
    "print(matplotlib.__version__)"
   ]
  },
  {
   "cell_type": "markdown",
   "id": "6dfe2656",
   "metadata": {},
   "source": [
    "Now, we try to get data on the internet."
   ]
  },
  {
   "cell_type": "code",
   "execution_count": 4,
   "id": "29cde647",
   "metadata": {
    "scrolled": true
   },
   "outputs": [
    {
     "data": {
      "text/html": [
       "<div>\n",
       "<style scoped>\n",
       "    .dataframe tbody tr th:only-of-type {\n",
       "        vertical-align: middle;\n",
       "    }\n",
       "\n",
       "    .dataframe tbody tr th {\n",
       "        vertical-align: top;\n",
       "    }\n",
       "\n",
       "    .dataframe thead th {\n",
       "        text-align: right;\n",
       "    }\n",
       "</style>\n",
       "<table border=\"1\" class=\"dataframe\">\n",
       "  <thead>\n",
       "    <tr style=\"text-align: right;\">\n",
       "      <th></th>\n",
       "      <th>Book</th>\n",
       "      <th>Author(s)</th>\n",
       "      <th>Original language</th>\n",
       "      <th>First published</th>\n",
       "      <th>Approximate sales</th>\n",
       "      <th>Genre</th>\n",
       "    </tr>\n",
       "  </thead>\n",
       "  <tbody>\n",
       "    <tr>\n",
       "      <th>0</th>\n",
       "      <td>Harry Potter and the Philosopher's Stone</td>\n",
       "      <td>J. K. Rowling</td>\n",
       "      <td>English</td>\n",
       "      <td>1997</td>\n",
       "      <td>120 million[17][18]</td>\n",
       "      <td>Fantasy</td>\n",
       "    </tr>\n",
       "    <tr>\n",
       "      <th>1</th>\n",
       "      <td>The Little Prince</td>\n",
       "      <td>Antoine de Saint-Exupéry</td>\n",
       "      <td>French</td>\n",
       "      <td>1943</td>\n",
       "      <td>100 million[19]</td>\n",
       "      <td>Novella</td>\n",
       "    </tr>\n",
       "    <tr>\n",
       "      <th>2</th>\n",
       "      <td>Dream of the Red Chamber</td>\n",
       "      <td>Cao Xueqin</td>\n",
       "      <td>Chinese</td>\n",
       "      <td>18th century</td>\n",
       "      <td>100 million[19]</td>\n",
       "      <td>Family saga</td>\n",
       "    </tr>\n",
       "    <tr>\n",
       "      <th>3</th>\n",
       "      <td>The Hobbit</td>\n",
       "      <td>J. R. R. Tolkien</td>\n",
       "      <td>English</td>\n",
       "      <td>1937</td>\n",
       "      <td>100 million[19]</td>\n",
       "      <td>Fantasy</td>\n",
       "    </tr>\n",
       "    <tr>\n",
       "      <th>4</th>\n",
       "      <td>And Then There Were None</td>\n",
       "      <td>Agatha Christie</td>\n",
       "      <td>English</td>\n",
       "      <td>1939</td>\n",
       "      <td>100 million[20]</td>\n",
       "      <td>Mystery</td>\n",
       "    </tr>\n",
       "  </tbody>\n",
       "</table>\n",
       "</div>"
      ],
      "text/plain": [
       "                                       Book                 Author(s)  \\\n",
       "0  Harry Potter and the Philosopher's Stone             J. K. Rowling   \n",
       "1                         The Little Prince  Antoine de Saint-Exupéry   \n",
       "2                  Dream of the Red Chamber                Cao Xueqin   \n",
       "3                                The Hobbit          J. R. R. Tolkien   \n",
       "4                  And Then There Were None           Agatha Christie   \n",
       "\n",
       "  Original language First published    Approximate sales        Genre  \n",
       "0           English            1997  120 million[17][18]      Fantasy  \n",
       "1            French            1943      100 million[19]      Novella  \n",
       "2           Chinese    18th century      100 million[19]  Family saga  \n",
       "3           English            1937      100 million[19]      Fantasy  \n",
       "4           English            1939      100 million[20]      Mystery  "
      ]
     },
     "execution_count": 4,
     "metadata": {},
     "output_type": "execute_result"
    }
   ],
   "source": [
    "html_url = \"https://en.wikipedia.org/wiki/List_of_best-selling_books\"\n",
    "r = requests.get(html_url)\n",
    "books = pd.read_html(r.text, header=0)\n",
    "len(books)\n",
    "books1 = books[1]\n",
    "books1.head()"
   ]
  },
  {
   "cell_type": "code",
   "execution_count": 5,
   "id": "d535d3e4",
   "metadata": {},
   "outputs": [
    {
     "data": {
      "text/html": [
       "<div>\n",
       "<style scoped>\n",
       "    .dataframe tbody tr th:only-of-type {\n",
       "        vertical-align: middle;\n",
       "    }\n",
       "\n",
       "    .dataframe tbody tr th {\n",
       "        vertical-align: top;\n",
       "    }\n",
       "\n",
       "    .dataframe thead th {\n",
       "        text-align: right;\n",
       "    }\n",
       "</style>\n",
       "<table border=\"1\" class=\"dataframe\">\n",
       "  <thead>\n",
       "    <tr style=\"text-align: right;\">\n",
       "      <th></th>\n",
       "      <th>Book</th>\n",
       "      <th>Author(s)</th>\n",
       "      <th>Original language</th>\n",
       "      <th>First published</th>\n",
       "      <th>Approximate sales</th>\n",
       "      <th>Genre</th>\n",
       "    </tr>\n",
       "  </thead>\n",
       "  <tbody>\n",
       "    <tr>\n",
       "      <th>0</th>\n",
       "      <td>The Lion, the Witch and the Wardrobe</td>\n",
       "      <td>C. S. Lewis</td>\n",
       "      <td>English</td>\n",
       "      <td>1950</td>\n",
       "      <td>85 million[21]</td>\n",
       "      <td>Fantasy</td>\n",
       "    </tr>\n",
       "    <tr>\n",
       "      <th>1</th>\n",
       "      <td>She: A History of Adventure</td>\n",
       "      <td>H. Rider Haggard</td>\n",
       "      <td>English</td>\n",
       "      <td>1887</td>\n",
       "      <td>83 million[22]</td>\n",
       "      <td>Adventure</td>\n",
       "    </tr>\n",
       "    <tr>\n",
       "      <th>2</th>\n",
       "      <td>The Adventures of Pinocchio (Le avventure di P...</td>\n",
       "      <td>Carlo Collodi</td>\n",
       "      <td>Italian</td>\n",
       "      <td>1881</td>\n",
       "      <td>&gt;80 million[23][24]</td>\n",
       "      <td>Fantasy</td>\n",
       "    </tr>\n",
       "    <tr>\n",
       "      <th>3</th>\n",
       "      <td>The Da Vinci Code</td>\n",
       "      <td>Dan Brown</td>\n",
       "      <td>English</td>\n",
       "      <td>2003</td>\n",
       "      <td>80 million[25]</td>\n",
       "      <td>Mystery thriller</td>\n",
       "    </tr>\n",
       "    <tr>\n",
       "      <th>4</th>\n",
       "      <td>Harry Potter and the Chamber of Secrets</td>\n",
       "      <td>J. K. Rowling</td>\n",
       "      <td>English</td>\n",
       "      <td>1998</td>\n",
       "      <td>77 million[26]</td>\n",
       "      <td>Fantasy</td>\n",
       "    </tr>\n",
       "  </tbody>\n",
       "</table>\n",
       "</div>"
      ],
      "text/plain": [
       "                                                Book         Author(s)  \\\n",
       "0               The Lion, the Witch and the Wardrobe       C. S. Lewis   \n",
       "1                        She: A History of Adventure  H. Rider Haggard   \n",
       "2  The Adventures of Pinocchio (Le avventure di P...     Carlo Collodi   \n",
       "3                                  The Da Vinci Code         Dan Brown   \n",
       "4            Harry Potter and the Chamber of Secrets     J. K. Rowling   \n",
       "\n",
       "  Original language  First published    Approximate sales             Genre  \n",
       "0           English             1950       85 million[21]           Fantasy  \n",
       "1           English             1887       83 million[22]         Adventure  \n",
       "2           Italian             1881  >80 million[23][24]           Fantasy  \n",
       "3           English             2003       80 million[25]  Mystery thriller  \n",
       "4           English             1998       77 million[26]           Fantasy  "
      ]
     },
     "execution_count": 5,
     "metadata": {},
     "output_type": "execute_result"
    }
   ],
   "source": [
    "books2 = books[2]\n",
    "books2.head()"
   ]
  },
  {
   "cell_type": "markdown",
   "id": "974821ed",
   "metadata": {},
   "source": [
    "We combine those two tables."
   ]
  },
  {
   "cell_type": "code",
   "execution_count": 6,
   "id": "4cad65ff",
   "metadata": {
    "scrolled": false
   },
   "outputs": [],
   "source": [
    "frames = [books1, books2]\n",
    "books=pd.concat(frames)"
   ]
  },
  {
   "cell_type": "markdown",
   "id": "720c1fe5",
   "metadata": {},
   "source": [
    "We set the index."
   ]
  },
  {
   "cell_type": "code",
   "execution_count": 7,
   "id": "8d1e0716",
   "metadata": {},
   "outputs": [
    {
     "data": {
      "text/html": [
       "<div>\n",
       "<style scoped>\n",
       "    .dataframe tbody tr th:only-of-type {\n",
       "        vertical-align: middle;\n",
       "    }\n",
       "\n",
       "    .dataframe tbody tr th {\n",
       "        vertical-align: top;\n",
       "    }\n",
       "\n",
       "    .dataframe thead th {\n",
       "        text-align: right;\n",
       "    }\n",
       "</style>\n",
       "<table border=\"1\" class=\"dataframe\">\n",
       "  <thead>\n",
       "    <tr style=\"text-align: right;\">\n",
       "      <th></th>\n",
       "      <th>Book</th>\n",
       "      <th>Author(s)</th>\n",
       "      <th>Original language</th>\n",
       "      <th>First published</th>\n",
       "      <th>Approximate sales</th>\n",
       "      <th>Genre</th>\n",
       "    </tr>\n",
       "    <tr>\n",
       "      <th>Rank</th>\n",
       "      <th></th>\n",
       "      <th></th>\n",
       "      <th></th>\n",
       "      <th></th>\n",
       "      <th></th>\n",
       "      <th></th>\n",
       "    </tr>\n",
       "  </thead>\n",
       "  <tbody>\n",
       "    <tr>\n",
       "      <th>1</th>\n",
       "      <td>Harry Potter and the Philosopher's Stone</td>\n",
       "      <td>J. K. Rowling</td>\n",
       "      <td>English</td>\n",
       "      <td>1997</td>\n",
       "      <td>120 million[17][18]</td>\n",
       "      <td>Fantasy</td>\n",
       "    </tr>\n",
       "    <tr>\n",
       "      <th>2</th>\n",
       "      <td>The Little Prince</td>\n",
       "      <td>Antoine de Saint-Exupéry</td>\n",
       "      <td>French</td>\n",
       "      <td>1943</td>\n",
       "      <td>100 million[19]</td>\n",
       "      <td>Novella</td>\n",
       "    </tr>\n",
       "    <tr>\n",
       "      <th>3</th>\n",
       "      <td>Dream of the Red Chamber</td>\n",
       "      <td>Cao Xueqin</td>\n",
       "      <td>Chinese</td>\n",
       "      <td>18th century</td>\n",
       "      <td>100 million[19]</td>\n",
       "      <td>Family saga</td>\n",
       "    </tr>\n",
       "    <tr>\n",
       "      <th>4</th>\n",
       "      <td>The Hobbit</td>\n",
       "      <td>J. R. R. Tolkien</td>\n",
       "      <td>English</td>\n",
       "      <td>1937</td>\n",
       "      <td>100 million[19]</td>\n",
       "      <td>Fantasy</td>\n",
       "    </tr>\n",
       "    <tr>\n",
       "      <th>5</th>\n",
       "      <td>And Then There Were None</td>\n",
       "      <td>Agatha Christie</td>\n",
       "      <td>English</td>\n",
       "      <td>1939</td>\n",
       "      <td>100 million[20]</td>\n",
       "      <td>Mystery</td>\n",
       "    </tr>\n",
       "    <tr>\n",
       "      <th>6</th>\n",
       "      <td>The Lion, the Witch and the Wardrobe</td>\n",
       "      <td>C. S. Lewis</td>\n",
       "      <td>English</td>\n",
       "      <td>1950</td>\n",
       "      <td>85 million[21]</td>\n",
       "      <td>Fantasy</td>\n",
       "    </tr>\n",
       "    <tr>\n",
       "      <th>7</th>\n",
       "      <td>She: A History of Adventure</td>\n",
       "      <td>H. Rider Haggard</td>\n",
       "      <td>English</td>\n",
       "      <td>1887</td>\n",
       "      <td>83 million[22]</td>\n",
       "      <td>Adventure</td>\n",
       "    </tr>\n",
       "    <tr>\n",
       "      <th>8</th>\n",
       "      <td>The Adventures of Pinocchio (Le avventure di P...</td>\n",
       "      <td>Carlo Collodi</td>\n",
       "      <td>Italian</td>\n",
       "      <td>1881</td>\n",
       "      <td>&gt;80 million[23][24]</td>\n",
       "      <td>Fantasy</td>\n",
       "    </tr>\n",
       "    <tr>\n",
       "      <th>9</th>\n",
       "      <td>The Da Vinci Code</td>\n",
       "      <td>Dan Brown</td>\n",
       "      <td>English</td>\n",
       "      <td>2003</td>\n",
       "      <td>80 million[25]</td>\n",
       "      <td>Mystery thriller</td>\n",
       "    </tr>\n",
       "    <tr>\n",
       "      <th>10</th>\n",
       "      <td>Harry Potter and the Chamber of Secrets</td>\n",
       "      <td>J. K. Rowling</td>\n",
       "      <td>English</td>\n",
       "      <td>1998</td>\n",
       "      <td>77 million[26]</td>\n",
       "      <td>Fantasy</td>\n",
       "    </tr>\n",
       "    <tr>\n",
       "      <th>11</th>\n",
       "      <td>Harry Potter and the Prisoner of Azkaban</td>\n",
       "      <td>J. K. Rowling</td>\n",
       "      <td>English</td>\n",
       "      <td>1999</td>\n",
       "      <td>65 million[27]</td>\n",
       "      <td>Fantasy</td>\n",
       "    </tr>\n",
       "    <tr>\n",
       "      <th>12</th>\n",
       "      <td>Harry Potter and the Goblet of Fire</td>\n",
       "      <td>J. K. Rowling</td>\n",
       "      <td>English</td>\n",
       "      <td>2000</td>\n",
       "      <td>65 million[27]</td>\n",
       "      <td>Fantasy</td>\n",
       "    </tr>\n",
       "    <tr>\n",
       "      <th>13</th>\n",
       "      <td>Harry Potter and the Order of the Phoenix</td>\n",
       "      <td>J. K. Rowling</td>\n",
       "      <td>English</td>\n",
       "      <td>2003</td>\n",
       "      <td>65 million[27]</td>\n",
       "      <td>Fantasy</td>\n",
       "    </tr>\n",
       "    <tr>\n",
       "      <th>14</th>\n",
       "      <td>Harry Potter and the Half-Blood Prince</td>\n",
       "      <td>J. K. Rowling</td>\n",
       "      <td>English</td>\n",
       "      <td>2005</td>\n",
       "      <td>65 million[27]</td>\n",
       "      <td>Fantasy</td>\n",
       "    </tr>\n",
       "    <tr>\n",
       "      <th>15</th>\n",
       "      <td>Harry Potter and the Deathly Hallows</td>\n",
       "      <td>J. K. Rowling</td>\n",
       "      <td>English</td>\n",
       "      <td>2007</td>\n",
       "      <td>65 million[27]</td>\n",
       "      <td>Fantasy</td>\n",
       "    </tr>\n",
       "    <tr>\n",
       "      <th>16</th>\n",
       "      <td>The Alchemist (O Alquimista)</td>\n",
       "      <td>Paulo Coelho</td>\n",
       "      <td>Portuguese</td>\n",
       "      <td>1988</td>\n",
       "      <td>65 million[28][29]</td>\n",
       "      <td>Fantasy</td>\n",
       "    </tr>\n",
       "    <tr>\n",
       "      <th>17</th>\n",
       "      <td>The Catcher in the Rye</td>\n",
       "      <td>J. D. Salinger</td>\n",
       "      <td>English</td>\n",
       "      <td>1951</td>\n",
       "      <td>65 million [30]</td>\n",
       "      <td>Coming-of-age</td>\n",
       "    </tr>\n",
       "    <tr>\n",
       "      <th>18</th>\n",
       "      <td>The Bridges of Madison County</td>\n",
       "      <td>Robert James Waller</td>\n",
       "      <td>English</td>\n",
       "      <td>1992</td>\n",
       "      <td>60 million[31]</td>\n",
       "      <td>Romance</td>\n",
       "    </tr>\n",
       "    <tr>\n",
       "      <th>19</th>\n",
       "      <td>Ben-Hur: A Tale of the Christ</td>\n",
       "      <td>Lew Wallace</td>\n",
       "      <td>English</td>\n",
       "      <td>1880</td>\n",
       "      <td>50 million[32]</td>\n",
       "      <td>Historical</td>\n",
       "    </tr>\n",
       "    <tr>\n",
       "      <th>20</th>\n",
       "      <td>You Can Heal Your Life</td>\n",
       "      <td>Louise Hay</td>\n",
       "      <td>English</td>\n",
       "      <td>1984</td>\n",
       "      <td>50 million[33]</td>\n",
       "      <td>Self-improvement</td>\n",
       "    </tr>\n",
       "    <tr>\n",
       "      <th>21</th>\n",
       "      <td>One Hundred Years of Solitude (Cien años de so...</td>\n",
       "      <td>Gabriel García Márquez</td>\n",
       "      <td>Spanish</td>\n",
       "      <td>1967</td>\n",
       "      <td>50 million[34][35][36]</td>\n",
       "      <td>Magic realism</td>\n",
       "    </tr>\n",
       "    <tr>\n",
       "      <th>22</th>\n",
       "      <td>Lolita</td>\n",
       "      <td>Vladimir Nabokov</td>\n",
       "      <td>English</td>\n",
       "      <td>1955</td>\n",
       "      <td>50 million[37]</td>\n",
       "      <td>General</td>\n",
       "    </tr>\n",
       "    <tr>\n",
       "      <th>23</th>\n",
       "      <td>Heidi</td>\n",
       "      <td>Johanna Spyri</td>\n",
       "      <td>Swiss German</td>\n",
       "      <td>1880</td>\n",
       "      <td>50 million[38]</td>\n",
       "      <td>Children's fiction</td>\n",
       "    </tr>\n",
       "    <tr>\n",
       "      <th>24</th>\n",
       "      <td>The Common Sense Book of Baby and Child Care</td>\n",
       "      <td>Benjamin Spock</td>\n",
       "      <td>English</td>\n",
       "      <td>1946</td>\n",
       "      <td>50 million[39]</td>\n",
       "      <td>Manual</td>\n",
       "    </tr>\n",
       "    <tr>\n",
       "      <th>25</th>\n",
       "      <td>Anne of Green Gables</td>\n",
       "      <td>Lucy Maud Montgomery</td>\n",
       "      <td>English</td>\n",
       "      <td>1908</td>\n",
       "      <td>50 million[40]</td>\n",
       "      <td>General</td>\n",
       "    </tr>\n",
       "    <tr>\n",
       "      <th>26</th>\n",
       "      <td>Black Beauty</td>\n",
       "      <td>Anna Sewell</td>\n",
       "      <td>English</td>\n",
       "      <td>1877</td>\n",
       "      <td>50 million[41]</td>\n",
       "      <td>Children's literature</td>\n",
       "    </tr>\n",
       "    <tr>\n",
       "      <th>27</th>\n",
       "      <td>The Name of the Rose (Il Nome della Rosa)</td>\n",
       "      <td>Umberto Eco</td>\n",
       "      <td>Italian</td>\n",
       "      <td>1980</td>\n",
       "      <td>50 million[42]</td>\n",
       "      <td>Historical novel, mystery</td>\n",
       "    </tr>\n",
       "    <tr>\n",
       "      <th>28</th>\n",
       "      <td>The Eagle Has Landed</td>\n",
       "      <td>Jack Higgins</td>\n",
       "      <td>English</td>\n",
       "      <td>1975</td>\n",
       "      <td>50 million[43]</td>\n",
       "      <td>War, thriller</td>\n",
       "    </tr>\n",
       "    <tr>\n",
       "      <th>29</th>\n",
       "      <td>Watership Down</td>\n",
       "      <td>Richard Adams</td>\n",
       "      <td>English</td>\n",
       "      <td>1972</td>\n",
       "      <td>50 million[44]</td>\n",
       "      <td>Fantasy</td>\n",
       "    </tr>\n",
       "    <tr>\n",
       "      <th>30</th>\n",
       "      <td>The Hite Report</td>\n",
       "      <td>Shere Hite</td>\n",
       "      <td>English</td>\n",
       "      <td>1976</td>\n",
       "      <td>50 million[45]</td>\n",
       "      <td>Sexology</td>\n",
       "    </tr>\n",
       "    <tr>\n",
       "      <th>31</th>\n",
       "      <td>Charlotte's Web</td>\n",
       "      <td>E. B. White; illustrated by Garth Williams</td>\n",
       "      <td>English</td>\n",
       "      <td>1952</td>\n",
       "      <td>50 million[46]</td>\n",
       "      <td>Children's fiction</td>\n",
       "    </tr>\n",
       "    <tr>\n",
       "      <th>32</th>\n",
       "      <td>The Ginger Man</td>\n",
       "      <td>J. P. Donleavy</td>\n",
       "      <td>English</td>\n",
       "      <td>1955</td>\n",
       "      <td>50 million[47]</td>\n",
       "      <td>NaN</td>\n",
       "    </tr>\n",
       "  </tbody>\n",
       "</table>\n",
       "</div>"
      ],
      "text/plain": [
       "                                                   Book  \\\n",
       "Rank                                                      \n",
       "1              Harry Potter and the Philosopher's Stone   \n",
       "2                                     The Little Prince   \n",
       "3                              Dream of the Red Chamber   \n",
       "4                                            The Hobbit   \n",
       "5                              And Then There Were None   \n",
       "6                  The Lion, the Witch and the Wardrobe   \n",
       "7                           She: A History of Adventure   \n",
       "8     The Adventures of Pinocchio (Le avventure di P...   \n",
       "9                                     The Da Vinci Code   \n",
       "10              Harry Potter and the Chamber of Secrets   \n",
       "11             Harry Potter and the Prisoner of Azkaban   \n",
       "12                  Harry Potter and the Goblet of Fire   \n",
       "13            Harry Potter and the Order of the Phoenix   \n",
       "14               Harry Potter and the Half-Blood Prince   \n",
       "15                 Harry Potter and the Deathly Hallows   \n",
       "16                         The Alchemist (O Alquimista)   \n",
       "17                               The Catcher in the Rye   \n",
       "18                        The Bridges of Madison County   \n",
       "19                        Ben-Hur: A Tale of the Christ   \n",
       "20                               You Can Heal Your Life   \n",
       "21    One Hundred Years of Solitude (Cien años de so...   \n",
       "22                                               Lolita   \n",
       "23                                                Heidi   \n",
       "24         The Common Sense Book of Baby and Child Care   \n",
       "25                                 Anne of Green Gables   \n",
       "26                                         Black Beauty   \n",
       "27            The Name of the Rose (Il Nome della Rosa)   \n",
       "28                                 The Eagle Has Landed   \n",
       "29                                       Watership Down   \n",
       "30                                      The Hite Report   \n",
       "31                                      Charlotte's Web   \n",
       "32                                       The Ginger Man   \n",
       "\n",
       "                                       Author(s) Original language  \\\n",
       "Rank                                                                 \n",
       "1                                  J. K. Rowling           English   \n",
       "2                       Antoine de Saint-Exupéry            French   \n",
       "3                                     Cao Xueqin           Chinese   \n",
       "4                               J. R. R. Tolkien           English   \n",
       "5                                Agatha Christie           English   \n",
       "6                                    C. S. Lewis           English   \n",
       "7                               H. Rider Haggard           English   \n",
       "8                                  Carlo Collodi           Italian   \n",
       "9                                      Dan Brown           English   \n",
       "10                                 J. K. Rowling           English   \n",
       "11                                 J. K. Rowling           English   \n",
       "12                                 J. K. Rowling           English   \n",
       "13                                 J. K. Rowling           English   \n",
       "14                                 J. K. Rowling           English   \n",
       "15                                 J. K. Rowling           English   \n",
       "16                                  Paulo Coelho        Portuguese   \n",
       "17                                J. D. Salinger           English   \n",
       "18                           Robert James Waller           English   \n",
       "19                                   Lew Wallace           English   \n",
       "20                                    Louise Hay           English   \n",
       "21                        Gabriel García Márquez           Spanish   \n",
       "22                              Vladimir Nabokov           English   \n",
       "23                                 Johanna Spyri      Swiss German   \n",
       "24                                Benjamin Spock           English   \n",
       "25                          Lucy Maud Montgomery           English   \n",
       "26                                   Anna Sewell           English   \n",
       "27                                   Umberto Eco           Italian   \n",
       "28                                  Jack Higgins           English   \n",
       "29                                 Richard Adams           English   \n",
       "30                                    Shere Hite           English   \n",
       "31    E. B. White; illustrated by Garth Williams           English   \n",
       "32                                J. P. Donleavy           English   \n",
       "\n",
       "     First published       Approximate sales                      Genre  \n",
       "Rank                                                                     \n",
       "1               1997     120 million[17][18]                    Fantasy  \n",
       "2               1943         100 million[19]                    Novella  \n",
       "3       18th century         100 million[19]                Family saga  \n",
       "4               1937         100 million[19]                    Fantasy  \n",
       "5               1939         100 million[20]                    Mystery  \n",
       "6               1950          85 million[21]                    Fantasy  \n",
       "7               1887          83 million[22]                  Adventure  \n",
       "8               1881     >80 million[23][24]                    Fantasy  \n",
       "9               2003          80 million[25]           Mystery thriller  \n",
       "10              1998          77 million[26]                    Fantasy  \n",
       "11              1999          65 million[27]                    Fantasy  \n",
       "12              2000          65 million[27]                    Fantasy  \n",
       "13              2003          65 million[27]                    Fantasy  \n",
       "14              2005          65 million[27]                    Fantasy  \n",
       "15              2007          65 million[27]                    Fantasy  \n",
       "16              1988      65 million[28][29]                    Fantasy  \n",
       "17              1951         65 million [30]              Coming-of-age  \n",
       "18              1992          60 million[31]                    Romance  \n",
       "19              1880          50 million[32]                 Historical  \n",
       "20              1984          50 million[33]           Self-improvement  \n",
       "21              1967  50 million[34][35][36]              Magic realism  \n",
       "22              1955          50 million[37]                    General  \n",
       "23              1880          50 million[38]         Children's fiction  \n",
       "24              1946          50 million[39]                     Manual  \n",
       "25              1908          50 million[40]                    General  \n",
       "26              1877          50 million[41]      Children's literature  \n",
       "27              1980          50 million[42]  Historical novel, mystery  \n",
       "28              1975          50 million[43]              War, thriller  \n",
       "29              1972          50 million[44]                    Fantasy  \n",
       "30              1976          50 million[45]                   Sexology  \n",
       "31              1952          50 million[46]         Children's fiction  \n",
       "32              1955          50 million[47]                        NaN  "
      ]
     },
     "execution_count": 7,
     "metadata": {},
     "output_type": "execute_result"
    }
   ],
   "source": [
    "index = np.arange(33)\n",
    "index=index[1:]\n",
    "books[\"Rank\"]=index\n",
    "books.set_index('Rank', inplace=True)\n",
    "books"
   ]
  },
  {
   "cell_type": "markdown",
   "id": "6a33aa2e",
   "metadata": {},
   "source": [
    "I want to drop the '>' and many references in the columne 'Approximate Sales' and then change it into a number.\n",
    "I can see that the genre 'The Ginger Man' is missing. I want to define the genre of 'The Ginger Man' as 'The others.'\n",
    "Let's see the summary of the data frame first."
   ]
  },
  {
   "cell_type": "code",
   "execution_count": 8,
   "id": "4f7a297e",
   "metadata": {
    "scrolled": false
   },
   "outputs": [
    {
     "name": "stdout",
     "output_type": "stream",
     "text": [
      "<class 'pandas.core.frame.DataFrame'>\n",
      "Int64Index: 32 entries, 1 to 32\n",
      "Data columns (total 6 columns):\n",
      " #   Column             Non-Null Count  Dtype \n",
      "---  ------             --------------  ----- \n",
      " 0   Book               32 non-null     object\n",
      " 1   Author(s)          32 non-null     object\n",
      " 2   Original language  32 non-null     object\n",
      " 3   First published    32 non-null     object\n",
      " 4   Approximate sales  32 non-null     object\n",
      " 5   Genre              31 non-null     object\n",
      "dtypes: object(6)\n",
      "memory usage: 1.8+ KB\n"
     ]
    }
   ],
   "source": [
    "books.info()"
   ]
  },
  {
   "cell_type": "markdown",
   "id": "4c1b6720",
   "metadata": {},
   "source": [
    "We drop the '>' and references in the columne 'Approximate Sales' and then we want to change it into a number. "
   ]
  },
  {
   "cell_type": "code",
   "execution_count": 9,
   "id": "3d1042cd",
   "metadata": {},
   "outputs": [],
   "source": [
    "books['Approximate sales'] = books['Approximate sales'].str.replace('>', '')"
   ]
  },
  {
   "cell_type": "code",
   "execution_count": 10,
   "id": "33aea53d",
   "metadata": {
    "scrolled": true
   },
   "outputs": [
    {
     "data": {
      "text/html": [
       "<div>\n",
       "<style scoped>\n",
       "    .dataframe tbody tr th:only-of-type {\n",
       "        vertical-align: middle;\n",
       "    }\n",
       "\n",
       "    .dataframe tbody tr th {\n",
       "        vertical-align: top;\n",
       "    }\n",
       "\n",
       "    .dataframe thead th {\n",
       "        text-align: right;\n",
       "    }\n",
       "</style>\n",
       "<table border=\"1\" class=\"dataframe\">\n",
       "  <thead>\n",
       "    <tr style=\"text-align: right;\">\n",
       "      <th></th>\n",
       "      <th>Book</th>\n",
       "      <th>Author(s)</th>\n",
       "      <th>Original language</th>\n",
       "      <th>First published</th>\n",
       "      <th>Genre</th>\n",
       "      <th>Approximate sales(in millions)</th>\n",
       "    </tr>\n",
       "    <tr>\n",
       "      <th>Rank</th>\n",
       "      <th></th>\n",
       "      <th></th>\n",
       "      <th></th>\n",
       "      <th></th>\n",
       "      <th></th>\n",
       "      <th></th>\n",
       "    </tr>\n",
       "  </thead>\n",
       "  <tbody>\n",
       "    <tr>\n",
       "      <th>1</th>\n",
       "      <td>Harry Potter and the Philosopher's Stone</td>\n",
       "      <td>J. K. Rowling</td>\n",
       "      <td>English</td>\n",
       "      <td>1997</td>\n",
       "      <td>Fantasy</td>\n",
       "      <td>120</td>\n",
       "    </tr>\n",
       "    <tr>\n",
       "      <th>2</th>\n",
       "      <td>The Little Prince</td>\n",
       "      <td>Antoine de Saint-Exupéry</td>\n",
       "      <td>French</td>\n",
       "      <td>1943</td>\n",
       "      <td>Novella</td>\n",
       "      <td>100</td>\n",
       "    </tr>\n",
       "    <tr>\n",
       "      <th>3</th>\n",
       "      <td>Dream of the Red Chamber</td>\n",
       "      <td>Cao Xueqin</td>\n",
       "      <td>Chinese</td>\n",
       "      <td>18th century</td>\n",
       "      <td>Family saga</td>\n",
       "      <td>100</td>\n",
       "    </tr>\n",
       "    <tr>\n",
       "      <th>4</th>\n",
       "      <td>The Hobbit</td>\n",
       "      <td>J. R. R. Tolkien</td>\n",
       "      <td>English</td>\n",
       "      <td>1937</td>\n",
       "      <td>Fantasy</td>\n",
       "      <td>100</td>\n",
       "    </tr>\n",
       "    <tr>\n",
       "      <th>5</th>\n",
       "      <td>And Then There Were None</td>\n",
       "      <td>Agatha Christie</td>\n",
       "      <td>English</td>\n",
       "      <td>1939</td>\n",
       "      <td>Mystery</td>\n",
       "      <td>100</td>\n",
       "    </tr>\n",
       "  </tbody>\n",
       "</table>\n",
       "</div>"
      ],
      "text/plain": [
       "                                          Book                 Author(s)  \\\n",
       "Rank                                                                       \n",
       "1     Harry Potter and the Philosopher's Stone             J. K. Rowling   \n",
       "2                            The Little Prince  Antoine de Saint-Exupéry   \n",
       "3                     Dream of the Red Chamber                Cao Xueqin   \n",
       "4                                   The Hobbit          J. R. R. Tolkien   \n",
       "5                     And Then There Were None           Agatha Christie   \n",
       "\n",
       "     Original language First published        Genre  \\\n",
       "Rank                                                  \n",
       "1              English            1997      Fantasy   \n",
       "2               French            1943      Novella   \n",
       "3              Chinese    18th century  Family saga   \n",
       "4              English            1937      Fantasy   \n",
       "5              English            1939      Mystery   \n",
       "\n",
       "     Approximate sales(in millions)  \n",
       "Rank                                 \n",
       "1                               120  \n",
       "2                               100  \n",
       "3                               100  \n",
       "4                               100  \n",
       "5                               100  "
      ]
     },
     "execution_count": 10,
     "metadata": {},
     "output_type": "execute_result"
    }
   ],
   "source": [
    "Approx_sales = books['Approximate sales']\n",
    "Num = Approx_sales.str.split().str[0]\n",
    "books[\"Approximate sales(in millions)\"] = Num\n",
    "books.drop(columns='Approximate sales', inplace=True)\n",
    "books.head()"
   ]
  },
  {
   "cell_type": "markdown",
   "id": "edc4376c",
   "metadata": {},
   "source": [
    "Is the values in the column 'Approximate sales(in million)' not numbers?"
   ]
  },
  {
   "cell_type": "code",
   "execution_count": 11,
   "id": "f7f75c3b",
   "metadata": {},
   "outputs": [
    {
     "data": {
      "text/plain": [
       "Book                              object\n",
       "Author(s)                         object\n",
       "Original language                 object\n",
       "First published                   object\n",
       "Genre                             object\n",
       "Approximate sales(in millions)    object\n",
       "dtype: object"
      ]
     },
     "execution_count": 11,
     "metadata": {},
     "output_type": "execute_result"
    }
   ],
   "source": [
    "books.dtypes"
   ]
  },
  {
   "cell_type": "markdown",
   "id": "efc9205a",
   "metadata": {},
   "source": [
    "No, they are not numbers. Let's change them into numbers."
   ]
  },
  {
   "cell_type": "code",
   "execution_count": 12,
   "id": "10c1fb84",
   "metadata": {},
   "outputs": [],
   "source": [
    "books['Approximate sales(in millions)'] = pd.to_numeric(books['Approximate sales(in millions)'])"
   ]
  },
  {
   "cell_type": "code",
   "execution_count": 13,
   "id": "d825e037",
   "metadata": {},
   "outputs": [
    {
     "data": {
      "text/plain": [
       "Book                              object\n",
       "Author(s)                         object\n",
       "Original language                 object\n",
       "First published                   object\n",
       "Genre                             object\n",
       "Approximate sales(in millions)     int64\n",
       "dtype: object"
      ]
     },
     "execution_count": 13,
     "metadata": {},
     "output_type": "execute_result"
    }
   ],
   "source": [
    "books.dtypes"
   ]
  },
  {
   "cell_type": "markdown",
   "id": "5461b15c",
   "metadata": {},
   "source": [
    "We made it! If we denote million in numbers, what does it look like?"
   ]
  },
  {
   "cell_type": "code",
   "execution_count": 14,
   "id": "a08cac70",
   "metadata": {
    "scrolled": true
   },
   "outputs": [
    {
     "data": {
      "text/html": [
       "<div>\n",
       "<style scoped>\n",
       "    .dataframe tbody tr th:only-of-type {\n",
       "        vertical-align: middle;\n",
       "    }\n",
       "\n",
       "    .dataframe tbody tr th {\n",
       "        vertical-align: top;\n",
       "    }\n",
       "\n",
       "    .dataframe thead th {\n",
       "        text-align: right;\n",
       "    }\n",
       "</style>\n",
       "<table border=\"1\" class=\"dataframe\">\n",
       "  <thead>\n",
       "    <tr style=\"text-align: right;\">\n",
       "      <th></th>\n",
       "      <th>Book</th>\n",
       "      <th>Author(s)</th>\n",
       "      <th>Original language</th>\n",
       "      <th>First published</th>\n",
       "      <th>Genre</th>\n",
       "      <th>Approximate sales(in millions)</th>\n",
       "      <th>Approximate sales</th>\n",
       "    </tr>\n",
       "    <tr>\n",
       "      <th>Rank</th>\n",
       "      <th></th>\n",
       "      <th></th>\n",
       "      <th></th>\n",
       "      <th></th>\n",
       "      <th></th>\n",
       "      <th></th>\n",
       "      <th></th>\n",
       "    </tr>\n",
       "  </thead>\n",
       "  <tbody>\n",
       "    <tr>\n",
       "      <th>1</th>\n",
       "      <td>Harry Potter and the Philosopher's Stone</td>\n",
       "      <td>J. K. Rowling</td>\n",
       "      <td>English</td>\n",
       "      <td>1997</td>\n",
       "      <td>Fantasy</td>\n",
       "      <td>120</td>\n",
       "      <td>120000000</td>\n",
       "    </tr>\n",
       "    <tr>\n",
       "      <th>2</th>\n",
       "      <td>The Little Prince</td>\n",
       "      <td>Antoine de Saint-Exupéry</td>\n",
       "      <td>French</td>\n",
       "      <td>1943</td>\n",
       "      <td>Novella</td>\n",
       "      <td>100</td>\n",
       "      <td>100000000</td>\n",
       "    </tr>\n",
       "    <tr>\n",
       "      <th>3</th>\n",
       "      <td>Dream of the Red Chamber</td>\n",
       "      <td>Cao Xueqin</td>\n",
       "      <td>Chinese</td>\n",
       "      <td>18th century</td>\n",
       "      <td>Family saga</td>\n",
       "      <td>100</td>\n",
       "      <td>100000000</td>\n",
       "    </tr>\n",
       "    <tr>\n",
       "      <th>4</th>\n",
       "      <td>The Hobbit</td>\n",
       "      <td>J. R. R. Tolkien</td>\n",
       "      <td>English</td>\n",
       "      <td>1937</td>\n",
       "      <td>Fantasy</td>\n",
       "      <td>100</td>\n",
       "      <td>100000000</td>\n",
       "    </tr>\n",
       "    <tr>\n",
       "      <th>5</th>\n",
       "      <td>And Then There Were None</td>\n",
       "      <td>Agatha Christie</td>\n",
       "      <td>English</td>\n",
       "      <td>1939</td>\n",
       "      <td>Mystery</td>\n",
       "      <td>100</td>\n",
       "      <td>100000000</td>\n",
       "    </tr>\n",
       "  </tbody>\n",
       "</table>\n",
       "</div>"
      ],
      "text/plain": [
       "                                          Book                 Author(s)  \\\n",
       "Rank                                                                       \n",
       "1     Harry Potter and the Philosopher's Stone             J. K. Rowling   \n",
       "2                            The Little Prince  Antoine de Saint-Exupéry   \n",
       "3                     Dream of the Red Chamber                Cao Xueqin   \n",
       "4                                   The Hobbit          J. R. R. Tolkien   \n",
       "5                     And Then There Were None           Agatha Christie   \n",
       "\n",
       "     Original language First published        Genre  \\\n",
       "Rank                                                  \n",
       "1              English            1997      Fantasy   \n",
       "2               French            1943      Novella   \n",
       "3              Chinese    18th century  Family saga   \n",
       "4              English            1937      Fantasy   \n",
       "5              English            1939      Mystery   \n",
       "\n",
       "      Approximate sales(in millions)  Approximate sales  \n",
       "Rank                                                     \n",
       "1                                120          120000000  \n",
       "2                                100          100000000  \n",
       "3                                100          100000000  \n",
       "4                                100          100000000  \n",
       "5                                100          100000000  "
      ]
     },
     "execution_count": 14,
     "metadata": {},
     "output_type": "execute_result"
    }
   ],
   "source": [
    "books['Approximate sales']=books['Approximate sales(in millions)'].apply(lambda x: x*1000000)\n",
    "books.head()"
   ]
  },
  {
   "cell_type": "markdown",
   "id": "c4a5ee12",
   "metadata": {},
   "source": [
    "Hmm..., it looks too much! I will drop it."
   ]
  },
  {
   "cell_type": "code",
   "execution_count": 15,
   "id": "527acba4",
   "metadata": {},
   "outputs": [],
   "source": [
    "books.drop(columns='Approximate sales', inplace=True)"
   ]
  },
  {
   "cell_type": "markdown",
   "id": "a6caadbb",
   "metadata": {},
   "source": [
    "Now, I will fill out the missing value, genre of \"The Ginger Man.\""
   ]
  },
  {
   "cell_type": "code",
   "execution_count": 16,
   "id": "1e23ca9b",
   "metadata": {},
   "outputs": [
    {
     "data": {
      "text/html": [
       "<div>\n",
       "<style scoped>\n",
       "    .dataframe tbody tr th:only-of-type {\n",
       "        vertical-align: middle;\n",
       "    }\n",
       "\n",
       "    .dataframe tbody tr th {\n",
       "        vertical-align: top;\n",
       "    }\n",
       "\n",
       "    .dataframe thead th {\n",
       "        text-align: right;\n",
       "    }\n",
       "</style>\n",
       "<table border=\"1\" class=\"dataframe\">\n",
       "  <thead>\n",
       "    <tr style=\"text-align: right;\">\n",
       "      <th></th>\n",
       "      <th>Book</th>\n",
       "      <th>Author(s)</th>\n",
       "      <th>Original language</th>\n",
       "      <th>First published</th>\n",
       "      <th>Genre</th>\n",
       "      <th>Approximate sales(in millions)</th>\n",
       "    </tr>\n",
       "    <tr>\n",
       "      <th>Rank</th>\n",
       "      <th></th>\n",
       "      <th></th>\n",
       "      <th></th>\n",
       "      <th></th>\n",
       "      <th></th>\n",
       "      <th></th>\n",
       "    </tr>\n",
       "  </thead>\n",
       "  <tbody>\n",
       "    <tr>\n",
       "      <th>28</th>\n",
       "      <td>The Eagle Has Landed</td>\n",
       "      <td>Jack Higgins</td>\n",
       "      <td>English</td>\n",
       "      <td>1975</td>\n",
       "      <td>War, thriller</td>\n",
       "      <td>50</td>\n",
       "    </tr>\n",
       "    <tr>\n",
       "      <th>29</th>\n",
       "      <td>Watership Down</td>\n",
       "      <td>Richard Adams</td>\n",
       "      <td>English</td>\n",
       "      <td>1972</td>\n",
       "      <td>Fantasy</td>\n",
       "      <td>50</td>\n",
       "    </tr>\n",
       "    <tr>\n",
       "      <th>30</th>\n",
       "      <td>The Hite Report</td>\n",
       "      <td>Shere Hite</td>\n",
       "      <td>English</td>\n",
       "      <td>1976</td>\n",
       "      <td>Sexology</td>\n",
       "      <td>50</td>\n",
       "    </tr>\n",
       "    <tr>\n",
       "      <th>31</th>\n",
       "      <td>Charlotte's Web</td>\n",
       "      <td>E. B. White; illustrated by Garth Williams</td>\n",
       "      <td>English</td>\n",
       "      <td>1952</td>\n",
       "      <td>Children's fiction</td>\n",
       "      <td>50</td>\n",
       "    </tr>\n",
       "    <tr>\n",
       "      <th>32</th>\n",
       "      <td>The Ginger Man</td>\n",
       "      <td>J. P. Donleavy</td>\n",
       "      <td>English</td>\n",
       "      <td>1955</td>\n",
       "      <td>The others</td>\n",
       "      <td>50</td>\n",
       "    </tr>\n",
       "  </tbody>\n",
       "</table>\n",
       "</div>"
      ],
      "text/plain": [
       "                      Book                                   Author(s)  \\\n",
       "Rank                                                                     \n",
       "28    The Eagle Has Landed                                Jack Higgins   \n",
       "29          Watership Down                               Richard Adams   \n",
       "30         The Hite Report                                  Shere Hite   \n",
       "31         Charlotte's Web  E. B. White; illustrated by Garth Williams   \n",
       "32          The Ginger Man                              J. P. Donleavy   \n",
       "\n",
       "     Original language First published               Genre  \\\n",
       "Rank                                                         \n",
       "28             English            1975       War, thriller   \n",
       "29             English            1972             Fantasy   \n",
       "30             English            1976            Sexology   \n",
       "31             English            1952  Children's fiction   \n",
       "32             English            1955          The others   \n",
       "\n",
       "      Approximate sales(in millions)  \n",
       "Rank                                  \n",
       "28                                50  \n",
       "29                                50  \n",
       "30                                50  \n",
       "31                                50  \n",
       "32                                50  "
      ]
     },
     "execution_count": 16,
     "metadata": {},
     "output_type": "execute_result"
    }
   ],
   "source": [
    "books.at[32, 'Genre']= \"The others\"\n",
    "books.tail()"
   ]
  },
  {
   "cell_type": "markdown",
   "id": "568639ea",
   "metadata": {},
   "source": [
    "## plots"
   ]
  },
  {
   "cell_type": "markdown",
   "id": "7e1c9870",
   "metadata": {},
   "source": [
    "We make plots for the last four columns, 'Original language', 'First published', 'Genre', 'Approximate sales(in million).'"
   ]
  },
  {
   "cell_type": "markdown",
   "id": "4cec43ba",
   "metadata": {},
   "source": [
    "##### 1. Bar Plot of Original language "
   ]
  },
  {
   "cell_type": "markdown",
   "id": "94e8f0b6",
   "metadata": {},
   "source": [
    "We first try a bar plot. I will not choose the default style. \n",
    "You can find many plot styles on the following website.\n",
    "https://matplotlib.org/stable/gallery/style_sheets/style_sheets_reference.html"
   ]
  },
  {
   "cell_type": "code",
   "execution_count": 17,
   "id": "b9382bb0",
   "metadata": {},
   "outputs": [
    {
     "data": {
      "image/png": "[encoded data removed]",
      "text/plain": [
       "<Figure size 900x300 with 1 Axes>"
      ]
     },
     "metadata": {
      "needs_background": "light"
     },
     "output_type": "display_data"
    }
   ],
   "source": [
    "lang = books['Original language'].unique()\n",
    "values = books['Original language'].value_counts()\n",
    "\n",
    "plt.style.use('seaborn-pastel')\n",
    "plt.figure(figsize=(9,3), dpi=100)\n",
    "plt.style.use('seaborn-pastel')\n",
    "plt.title('books selled more than 50 millions copies', fontdict={'fontsize' : 15})\n",
    "plt.xlabel('Original language')\n",
    "plt.ylabel('The number of books')\n",
    "plt.bar(lang, values)\n",
    "plt.show()"
   ]
  },
  {
   "cell_type": "markdown",
   "id": "2fc31728",
   "metadata": {},
   "source": [
    "Here is a different method. https://pandas.pydata.org/pandas-docs/stable/user_guide/visualization.html"
   ]
  },
  {
   "cell_type": "code",
   "execution_count": 18,
   "id": "66bda4dc",
   "metadata": {
    "scrolled": true
   },
   "outputs": [
    {
     "data": {
      "image/png": "[encoded data removed]",
      "text/plain": [
       "<Figure size 648x216 with 1 Axes>"
      ]
     },
     "metadata": {
      "needs_background": "light"
     },
     "output_type": "display_data"
    }
   ],
   "source": [
    "books['Original language'].value_counts().plot(kind = 'bar', figsize=(9,3))\n",
    "plt.show()"
   ]
  },
  {
   "cell_type": "markdown",
   "id": "34d8929a",
   "metadata": {},
   "source": [
    "#### 2. Pie Plot of First published"
   ]
  },
  {
   "cell_type": "code",
   "execution_count": 19,
   "id": "e0cc1e82",
   "metadata": {
    "scrolled": true
   },
   "outputs": [
    {
     "data": {
      "text/plain": [
       "array(['1997', '1943', '18th century', '1937', '1939', 1950, 1887, 1881,\n",
       "       2003, 1998, 1999, 2000, 2005, 2007, 1988, 1951, 1992, 1880, 1984,\n",
       "       1967, 1955, 1946, 1908, 1877, 1980, 1975, 1972, 1976, 1952],\n",
       "      dtype=object)"
      ]
     },
     "execution_count": 19,
     "metadata": {},
     "output_type": "execute_result"
    }
   ],
   "source": [
    "books['First published'].unique()"
   ]
  },
  {
   "cell_type": "markdown",
   "id": "dd899346",
   "metadata": {},
   "source": [
    "It seems like some values are string and some are integers. \n",
    "We change '18th century' into 1750 and convert this column into numbers."
   ]
  },
  {
   "cell_type": "code",
   "execution_count": 20,
   "id": "52c09380",
   "metadata": {},
   "outputs": [],
   "source": [
    "books['First published'] = [int(x) if type(x) == str and x!= '18th century' else x for x in books['First published']]\n",
    "books['First published'] = [int(1750) if x == '18th century' else x for x in books['First published']]"
   ]
  },
  {
   "cell_type": "code",
   "execution_count": 21,
   "id": "a0d7ea4b",
   "metadata": {},
   "outputs": [
    {
     "data": {
      "text/plain": [
       "array([1997, 1943, 1750, 1937, 1939, 1950, 1887, 1881, 2003, 1998, 1999,\n",
       "       2000, 2005, 2007, 1988, 1951, 1992, 1880, 1984, 1967, 1955, 1946,\n",
       "       1908, 1877, 1980, 1975, 1972, 1976, 1952])"
      ]
     },
     "execution_count": 21,
     "metadata": {},
     "output_type": "execute_result"
    }
   ],
   "source": [
    "books['First published'].unique()"
   ]
  },
  {
   "cell_type": "code",
   "execution_count": 22,
   "id": "e31d0a87",
   "metadata": {},
   "outputs": [
    {
     "name": "stdout",
     "output_type": "stream",
     "text": [
      "<class 'pandas.core.frame.DataFrame'>\n",
      "Int64Index: 32 entries, 1 to 32\n",
      "Data columns (total 6 columns):\n",
      " #   Column                          Non-Null Count  Dtype \n",
      "---  ------                          --------------  ----- \n",
      " 0   Book                            32 non-null     object\n",
      " 1   Author(s)                       32 non-null     object\n",
      " 2   Original language               32 non-null     object\n",
      " 3   First published                 32 non-null     int64 \n",
      " 4   Genre                           32 non-null     object\n",
      " 5   Approximate sales(in millions)  32 non-null     int64 \n",
      "dtypes: int64(2), object(4)\n",
      "memory usage: 2.8+ KB\n"
     ]
    }
   ],
   "source": [
    "books.info()"
   ]
  },
  {
   "cell_type": "markdown",
   "id": "8f4a5cc6",
   "metadata": {},
   "source": [
    "We made it! This time, I will use hex color."
   ]
  },
  {
   "cell_type": "code",
   "execution_count": 23,
   "id": "f3e09c6f",
   "metadata": {
    "scrolled": false
   },
   "outputs": [
    {
     "data": {
      "image/png": "[encoded data removed]",
      "text/plain": [
       "<Figure size 432x288 with 1 Axes>"
      ]
     },
     "metadata": {},
     "output_type": "display_data"
    }
   ],
   "source": [
    "Eighteenth = books.loc[books['First published'] == 1750].count()[0]\n",
    "Early_twentieth = books.loc[(books['First published'] >1900) & (books['First published'] <1951)].count()[0]\n",
    "Late_twentieth = books.loc[(books['First published'] >1950) & (books['First published'] <2001)].count()[0]\n",
    "Twenty_first= books.loc[books['First published'] >2000].count()[0]\n",
    "plt.title(\"Original language of the more than 50 millions selling books\")\n",
    "labels = ['Eighteenth', 'Early twentieth', 'Late_twentieth', 'Twenty-first']\n",
    "colors=['#f1f505', '#1905f5', '#0dfa05', '#fa05a0']\n",
    "plt.pie([Eighteenth, Early_twentieth, Late_twentieth, Twenty_first], labels=labels, colors=colors, pctdistance=0.75, autopct = '%.2f %%')\n",
    "plt.show()"
   ]
  },
  {
   "cell_type": "markdown",
   "id": "6ca2a3c3",
   "metadata": {},
   "source": [
    "##### 3. Approximate sales per Genre"
   ]
  },
  {
   "cell_type": "markdown",
   "id": "702f7c25",
   "metadata": {},
   "source": [
    "In this section, we will draw a chart indicating how many copies have been sold for each genre based on the data frame. \n",
    "In fact, I have never seen this kind of trial on tutorials. All I have seen were about charts of columns without much processs. I am not sure if there is a better method. I will make a new data frame consisting of two columns, Genre and the sum of sold copies."
   ]
  },
  {
   "cell_type": "code",
   "execution_count": 24,
   "id": "3556a5f2",
   "metadata": {
    "scrolled": true
   },
   "outputs": [
    {
     "data": {
      "image/png": "[encoded data removed]",
      "text/plain": [
       "<Figure size 1500x300 with 1 Axes>"
      ]
     },
     "metadata": {
      "needs_background": "light"
     },
     "output_type": "display_data"
    }
   ],
   "source": [
    "genres = list(books['Genre'].unique())\n",
    "\n",
    "def df_genre(genre):\n",
    "    return pd.DataFrame(books.loc[books['Genre'] == genre])\n",
    "def value_genre(x):\n",
    "    return (df_genre(x)['Approximate sales(in millions)'].sum())        \n",
    "\n",
    "\n",
    "genre_a = list(genre for genre in genres)\n",
    "genre_b = list(value_genre(genre) for genre in genres)\n",
    "\n",
    "df = pd.DataFrame({'A' : genre_a, 'B' : genre_b})\n",
    "plt.figure(figsize=(15,3), dpi=100)\n",
    "plt.style.use('bmh')\n",
    "plt.title('Approximate number of copies per each genre(in millions)', fontdict={'fontsize' : 15})\n",
    "plt.xticks(rotation=90)\n",
    "plt.bar(df['A'], df['B'])\n",
    "plt.show()"
   ]
  },
  {
   "cell_type": "markdown",
   "id": "09c43527",
   "metadata": {},
   "source": [
    "I actually draw a bar plot of the following data frame."
   ]
  },
  {
   "cell_type": "code",
   "execution_count": 25,
   "id": "4b5cdccf",
   "metadata": {
    "scrolled": false
   },
   "outputs": [
    {
     "data": {
      "text/html": [
       "<div>\n",
       "<style scoped>\n",
       "    .dataframe tbody tr th:only-of-type {\n",
       "        vertical-align: middle;\n",
       "    }\n",
       "\n",
       "    .dataframe tbody tr th {\n",
       "        vertical-align: top;\n",
       "    }\n",
       "\n",
       "    .dataframe thead th {\n",
       "        text-align: right;\n",
       "    }\n",
       "</style>\n",
       "<table border=\"1\" class=\"dataframe\">\n",
       "  <thead>\n",
       "    <tr style=\"text-align: right;\">\n",
       "      <th></th>\n",
       "      <th>A</th>\n",
       "      <th>B</th>\n",
       "    </tr>\n",
       "  </thead>\n",
       "  <tbody>\n",
       "    <tr>\n",
       "      <th>0</th>\n",
       "      <td>Fantasy</td>\n",
       "      <td>902</td>\n",
       "    </tr>\n",
       "    <tr>\n",
       "      <th>1</th>\n",
       "      <td>Novella</td>\n",
       "      <td>100</td>\n",
       "    </tr>\n",
       "    <tr>\n",
       "      <th>2</th>\n",
       "      <td>Family saga</td>\n",
       "      <td>100</td>\n",
       "    </tr>\n",
       "    <tr>\n",
       "      <th>3</th>\n",
       "      <td>Mystery</td>\n",
       "      <td>100</td>\n",
       "    </tr>\n",
       "    <tr>\n",
       "      <th>4</th>\n",
       "      <td>Adventure</td>\n",
       "      <td>83</td>\n",
       "    </tr>\n",
       "    <tr>\n",
       "      <th>5</th>\n",
       "      <td>Mystery thriller</td>\n",
       "      <td>80</td>\n",
       "    </tr>\n",
       "    <tr>\n",
       "      <th>6</th>\n",
       "      <td>Coming-of-age</td>\n",
       "      <td>65</td>\n",
       "    </tr>\n",
       "    <tr>\n",
       "      <th>7</th>\n",
       "      <td>Romance</td>\n",
       "      <td>60</td>\n",
       "    </tr>\n",
       "    <tr>\n",
       "      <th>8</th>\n",
       "      <td>Historical</td>\n",
       "      <td>50</td>\n",
       "    </tr>\n",
       "    <tr>\n",
       "      <th>9</th>\n",
       "      <td>Self-improvement</td>\n",
       "      <td>50</td>\n",
       "    </tr>\n",
       "    <tr>\n",
       "      <th>10</th>\n",
       "      <td>Magic realism</td>\n",
       "      <td>50</td>\n",
       "    </tr>\n",
       "    <tr>\n",
       "      <th>11</th>\n",
       "      <td>General</td>\n",
       "      <td>100</td>\n",
       "    </tr>\n",
       "    <tr>\n",
       "      <th>12</th>\n",
       "      <td>Children's fiction</td>\n",
       "      <td>100</td>\n",
       "    </tr>\n",
       "    <tr>\n",
       "      <th>13</th>\n",
       "      <td>Manual</td>\n",
       "      <td>50</td>\n",
       "    </tr>\n",
       "    <tr>\n",
       "      <th>14</th>\n",
       "      <td>Children's literature</td>\n",
       "      <td>50</td>\n",
       "    </tr>\n",
       "    <tr>\n",
       "      <th>15</th>\n",
       "      <td>Historical novel, mystery</td>\n",
       "      <td>50</td>\n",
       "    </tr>\n",
       "    <tr>\n",
       "      <th>16</th>\n",
       "      <td>War, thriller</td>\n",
       "      <td>50</td>\n",
       "    </tr>\n",
       "    <tr>\n",
       "      <th>17</th>\n",
       "      <td>Sexology</td>\n",
       "      <td>50</td>\n",
       "    </tr>\n",
       "    <tr>\n",
       "      <th>18</th>\n",
       "      <td>The others</td>\n",
       "      <td>50</td>\n",
       "    </tr>\n",
       "  </tbody>\n",
       "</table>\n",
       "</div>"
      ],
      "text/plain": [
       "                            A    B\n",
       "0                     Fantasy  902\n",
       "1                     Novella  100\n",
       "2                 Family saga  100\n",
       "3                     Mystery  100\n",
       "4                   Adventure   83\n",
       "5            Mystery thriller   80\n",
       "6               Coming-of-age   65\n",
       "7                     Romance   60\n",
       "8                  Historical   50\n",
       "9            Self-improvement   50\n",
       "10              Magic realism   50\n",
       "11                    General  100\n",
       "12         Children's fiction  100\n",
       "13                     Manual   50\n",
       "14      Children's literature   50\n",
       "15  Historical novel, mystery   50\n",
       "16              War, thriller   50\n",
       "17                   Sexology   50\n",
       "18                 The others   50"
      ]
     },
     "execution_count": 25,
     "metadata": {},
     "output_type": "execute_result"
    }
   ],
   "source": [
    "df"
   ]
  }
 ],
 "metadata": {
  "kernelspec": {
   "display_name": "Python 3",
   "language": "python",
   "name": "python3"
  },
  "language_info": {
   "codemirror_mode": {
    "name": "ipython",
    "version": 3
   },
   "file_extension": ".py",
   "mimetype": "text/x-python",
   "name": "python",
   "nbconvert_exporter": "python",
   "pygments_lexer": "ipython3",
   "version": "3.8.10"
  }
 },
 "nbformat": 4,
 "nbformat_minor": 5
}
